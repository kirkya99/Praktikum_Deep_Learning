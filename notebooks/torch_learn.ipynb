{
 "cells": [
  {
   "cell_type": "code",
   "id": "initial_id",
   "metadata": {
    "collapsed": true,
    "ExecuteTime": {
     "end_time": "2025-05-08T20:11:04.652203Z",
     "start_time": "2025-05-08T20:11:04.638697Z"
    }
   },
   "source": [
    "import torch\n",
    "from torch.utils.data import Dataset\n",
    "from torchvision import datasets\n",
    "from torchvision.transforms import ToTensor\n",
    "from torch import nn\n",
    "from torch.utils.data import DataLoader\n",
    "import matplotlib.pyplot as plt\n",
    "\n",
    "training_data = datasets.FashionMNIST(\n",
    "        root=\"data\",\n",
    "        train=True,\n",
    "        download=True,\n",
    "        transform=ToTensor()\n",
    "        )\n",
    "\n",
    "test_data = datasets.FashionMNIST(\n",
    "        root=\"data\",\n",
    "        train=False,\n",
    "        download=True,\n",
    "        transform=ToTensor()\n",
    "        )\n",
    "train_dataloader = DataLoader(training_data, batch_size=64, shuffle=True)\n",
    "test_dataloader = DataLoader(test_data, batch_size=64, shuffle=True)"
   ],
   "outputs": [
    {
     "ename": "ModuleNotFoundError",
     "evalue": "No module named 'torch'",
     "output_type": "error",
     "traceback": [
      "\u001B[31m---------------------------------------------------------------------------\u001B[39m",
      "\u001B[31mModuleNotFoundError\u001B[39m                       Traceback (most recent call last)",
      "\u001B[36mCell\u001B[39m\u001B[36m \u001B[39m\u001B[32mIn[2]\u001B[39m\u001B[32m, line 1\u001B[39m\n\u001B[32m----> \u001B[39m\u001B[32m1\u001B[39m \u001B[38;5;28;01mimport\u001B[39;00m\u001B[38;5;250m \u001B[39m\u001B[34;01mtorch\u001B[39;00m\n\u001B[32m      2\u001B[39m \u001B[38;5;28;01mfrom\u001B[39;00m\u001B[38;5;250m \u001B[39m\u001B[34;01mtorch\u001B[39;00m\u001B[34;01m.\u001B[39;00m\u001B[34;01mutils\u001B[39;00m\u001B[34;01m.\u001B[39;00m\u001B[34;01mdata\u001B[39;00m\u001B[38;5;250m \u001B[39m\u001B[38;5;28;01mimport\u001B[39;00m Dataset\n\u001B[32m      3\u001B[39m \u001B[38;5;28;01mfrom\u001B[39;00m\u001B[38;5;250m \u001B[39m\u001B[34;01mtorchvision\u001B[39;00m\u001B[38;5;250m \u001B[39m\u001B[38;5;28;01mimport\u001B[39;00m datasets\n",
      "\u001B[31mModuleNotFoundError\u001B[39m: No module named 'torch'"
     ]
    }
   ],
   "execution_count": 2
  },
  {
   "metadata": {
    "ExecuteTime": {
     "end_time": "2025-05-08T20:10:58.225464398Z",
     "start_time": "2025-04-24T19:46:43.281434Z"
    }
   },
   "cell_type": "code",
   "source": [
    "device = torch.accelerator.current_accelerator().type if torch.accelerator.is_available() else \"cpu\"\n",
    "print(f\"Using {device} device\")"
   ],
   "id": "acd9bafd2ce93574",
   "outputs": [
    {
     "ename": "NameError",
     "evalue": "name 'torch' is not defined",
     "output_type": "error",
     "traceback": [
      "\u001B[31m---------------------------------------------------------------------------\u001B[39m",
      "\u001B[31mNameError\u001B[39m                                 Traceback (most recent call last)",
      "\u001B[36mCell\u001B[39m\u001B[36m \u001B[39m\u001B[32mIn[2]\u001B[39m\u001B[32m, line 1\u001B[39m\n\u001B[32m----> \u001B[39m\u001B[32m1\u001B[39m device = torch.accelerator.current_accelerator().type \u001B[38;5;28;01mif\u001B[39;00m \u001B[43mtorch\u001B[49m.accelerator.is_available() \u001B[38;5;28;01melse\u001B[39;00m \u001B[33m\"\u001B[39m\u001B[33mcpu\u001B[39m\u001B[33m\"\u001B[39m\n\u001B[32m      2\u001B[39m \u001B[38;5;28mprint\u001B[39m(\u001B[33mf\u001B[39m\u001B[33m\"\u001B[39m\u001B[33mUsing \u001B[39m\u001B[38;5;132;01m{\u001B[39;00mdevice\u001B[38;5;132;01m}\u001B[39;00m\u001B[33m device\u001B[39m\u001B[33m\"\u001B[39m)\n",
      "\u001B[31mNameError\u001B[39m: name 'torch' is not defined"
     ]
    }
   ],
   "execution_count": 2
  },
  {
   "metadata": {
    "ExecuteTime": {
     "end_time": "2025-05-08T20:10:58.225962217Z",
     "start_time": "2025-04-24T19:46:47.762255Z"
    }
   },
   "cell_type": "code",
   "source": [
    "t1 = torch.tensor([1.0, 2.0, 3.0]).to(device)\n",
    "t2 = torch.tensor([4.0, 5.0, 6.0])\n",
    "t1 + t2"
   ],
   "id": "cd88e023453e4ea7",
   "outputs": [
    {
     "ename": "NameError",
     "evalue": "name 'torch' is not defined",
     "output_type": "error",
     "traceback": [
      "\u001B[31m---------------------------------------------------------------------------\u001B[39m",
      "\u001B[31mNameError\u001B[39m                                 Traceback (most recent call last)",
      "\u001B[36mCell\u001B[39m\u001B[36m \u001B[39m\u001B[32mIn[3]\u001B[39m\u001B[32m, line 1\u001B[39m\n\u001B[32m----> \u001B[39m\u001B[32m1\u001B[39m t1 = \u001B[43mtorch\u001B[49m.tensor([\u001B[32m1.0\u001B[39m, \u001B[32m2.0\u001B[39m, \u001B[32m3.0\u001B[39m]).to(device)\n\u001B[32m      2\u001B[39m t2 = torch.tensor([\u001B[32m4.0\u001B[39m, \u001B[32m5.0\u001B[39m, \u001B[32m6.0\u001B[39m])\n\u001B[32m      3\u001B[39m t1 + t2\n",
      "\u001B[31mNameError\u001B[39m: name 'torch' is not defined"
     ]
    }
   ],
   "execution_count": 3
  },
  {
   "metadata": {
    "ExecuteTime": {
     "end_time": "2025-05-08T20:10:58.227155130Z",
     "start_time": "2025-04-24T19:46:53.805011Z"
    }
   },
   "cell_type": "code",
   "source": [
    "class NeuralNetwork(nn.Module):\n",
    "    def __init__(self, nr_neurons=128):\n",
    "        super().__init__()\n",
    "        self.flatten = nn.Flatten()\n",
    "        self.linear_relu_stack = nn.Sequential(\n",
    "                nn.Linear(28 * 28, nr_neurons),\n",
    "                nn.ReLU(),\n",
    "                nn.Linear(nr_neurons, nr_neurons),\n",
    "                nn.SELU(),\n",
    "                nn.Linear(nr_neurons, 10)\n",
    "                )\n",
    "\n",
    "    def forward(self, x):\n",
    "        x = self.flatten(x)\n",
    "        logits = self.linear_relu_stack(x)\n",
    "        return logits\n",
    "\n",
    "\n",
    "model = NeuralNetwork(nr_neurons=64).to(device)\n",
    "print(model)"
   ],
   "id": "7f5d95f991bb10b2",
   "outputs": [
    {
     "ename": "NameError",
     "evalue": "name 'nn' is not defined",
     "output_type": "error",
     "traceback": [
      "\u001B[31m---------------------------------------------------------------------------\u001B[39m",
      "\u001B[31mNameError\u001B[39m                                 Traceback (most recent call last)",
      "\u001B[36mCell\u001B[39m\u001B[36m \u001B[39m\u001B[32mIn[4]\u001B[39m\u001B[32m, line 1\u001B[39m\n\u001B[32m----> \u001B[39m\u001B[32m1\u001B[39m \u001B[38;5;28;01mclass\u001B[39;00m\u001B[38;5;250m \u001B[39m\u001B[34;01mNeuralNetwork\u001B[39;00m(\u001B[43mnn\u001B[49m.Module):\n\u001B[32m      2\u001B[39m     \u001B[38;5;28;01mdef\u001B[39;00m\u001B[38;5;250m \u001B[39m\u001B[34m__init__\u001B[39m(\u001B[38;5;28mself\u001B[39m, nr_neurons=\u001B[32m128\u001B[39m):\n\u001B[32m      3\u001B[39m         \u001B[38;5;28msuper\u001B[39m().\u001B[34m__init__\u001B[39m()\n",
      "\u001B[31mNameError\u001B[39m: name 'nn' is not defined"
     ]
    }
   ],
   "execution_count": 4
  },
  {
   "metadata": {
    "ExecuteTime": {
     "end_time": "2025-05-08T20:10:58.228023232Z",
     "start_time": "2025-04-24T19:46:58.645036Z"
    }
   },
   "cell_type": "code",
   "source": [
    "X = torch.rand(1, 28, 28, device=device)\n",
    "print(X.shape)\n",
    "logits = model(X)\n",
    "print(logits)\n",
    "pred_probab = nn.Softmax(dim=1)(logits)\n",
    "print(pred_probab)\n",
    "y_pred = pred_probab.argmax(1)\n",
    "print(f\"Predicted class: {y_pred}\")"
   ],
   "id": "81dcf3fc9dbc1c9e",
   "outputs": [
    {
     "ename": "NameError",
     "evalue": "name 'torch' is not defined",
     "output_type": "error",
     "traceback": [
      "\u001B[31m---------------------------------------------------------------------------\u001B[39m",
      "\u001B[31mNameError\u001B[39m                                 Traceback (most recent call last)",
      "\u001B[36mCell\u001B[39m\u001B[36m \u001B[39m\u001B[32mIn[5]\u001B[39m\u001B[32m, line 1\u001B[39m\n\u001B[32m----> \u001B[39m\u001B[32m1\u001B[39m X = \u001B[43mtorch\u001B[49m.rand(\u001B[32m1\u001B[39m, \u001B[32m28\u001B[39m, \u001B[32m28\u001B[39m, device=device)\n\u001B[32m      2\u001B[39m \u001B[38;5;28mprint\u001B[39m(X.shape)\n\u001B[32m      3\u001B[39m logits = model(X)\n",
      "\u001B[31mNameError\u001B[39m: name 'torch' is not defined"
     ]
    }
   ],
   "execution_count": 5
  },
  {
   "metadata": {
    "ExecuteTime": {
     "end_time": "2025-05-08T20:10:58.228499832Z",
     "start_time": "2025-04-24T19:47:04.514310Z"
    }
   },
   "cell_type": "code",
   "source": [
    "loss_fn = nn.CrossEntropyLoss()\n",
    "optimizer = torch.optim.SGD(model.parameters(), lr=1e-2)"
   ],
   "id": "d0b549a3a0178511",
   "outputs": [
    {
     "ename": "NameError",
     "evalue": "name 'nn' is not defined",
     "output_type": "error",
     "traceback": [
      "\u001B[31m---------------------------------------------------------------------------\u001B[39m",
      "\u001B[31mNameError\u001B[39m                                 Traceback (most recent call last)",
      "\u001B[36mCell\u001B[39m\u001B[36m \u001B[39m\u001B[32mIn[6]\u001B[39m\u001B[32m, line 1\u001B[39m\n\u001B[32m----> \u001B[39m\u001B[32m1\u001B[39m loss_fn = \u001B[43mnn\u001B[49m.CrossEntropyLoss()\n\u001B[32m      2\u001B[39m optimizer = torch.optim.SGD(model.parameters(), lr=\u001B[32m1e-2\u001B[39m)\n",
      "\u001B[31mNameError\u001B[39m: name 'nn' is not defined"
     ]
    }
   ],
   "execution_count": 6
  },
  {
   "metadata": {
    "ExecuteTime": {
     "end_time": "2025-05-08T20:10:58.229685842Z",
     "start_time": "2025-04-24T19:47:09.763063Z"
    }
   },
   "cell_type": "code",
   "source": [
    "X = train_dataloader.dataset[0][0].to(device)\n",
    "print(X.shape)\n",
    "y = train_dataloader.dataset[0][1]\n",
    "print(f\"Class: {y}\")\n",
    "y = torch.tensor(y).to(device)\n",
    "y = y.reshape(1, )\n",
    "print(y.shape)\n",
    "model.train()\n",
    "pred = model(X)\n",
    "loss = loss_fn(pred, torch.tensor(y).to(device))\n",
    "print(f\"Predicted class: {pred.argmax(1)}\")\n",
    "print(f\"Loss: {loss.item()}\")\n",
    "# Backpropagation\n",
    "loss.backward()\n",
    "optimizer.step()\n",
    "optimizer.zero_grad()"
   ],
   "id": "74e35af34d4b45d3",
   "outputs": [
    {
     "ename": "NameError",
     "evalue": "name 'train_dataloader' is not defined",
     "output_type": "error",
     "traceback": [
      "\u001B[31m---------------------------------------------------------------------------\u001B[39m",
      "\u001B[31mNameError\u001B[39m                                 Traceback (most recent call last)",
      "\u001B[36mCell\u001B[39m\u001B[36m \u001B[39m\u001B[32mIn[7]\u001B[39m\u001B[32m, line 1\u001B[39m\n\u001B[32m----> \u001B[39m\u001B[32m1\u001B[39m X = \u001B[43mtrain_dataloader\u001B[49m.dataset[\u001B[32m0\u001B[39m][\u001B[32m0\u001B[39m].to(device)\n\u001B[32m      2\u001B[39m \u001B[38;5;28mprint\u001B[39m(X.shape)\n\u001B[32m      3\u001B[39m y = train_dataloader.dataset[\u001B[32m0\u001B[39m][\u001B[32m1\u001B[39m]\n",
      "\u001B[31mNameError\u001B[39m: name 'train_dataloader' is not defined"
     ]
    }
   ],
   "execution_count": 7
  },
  {
   "metadata": {
    "ExecuteTime": {
     "end_time": "2025-05-08T20:10:58.230861627Z",
     "start_time": "2025-04-24T19:47:14.896261Z"
    }
   },
   "cell_type": "code",
   "source": [
    "dataloader = train_dataloader\n",
    "size = len(dataloader.dataset)\n",
    "# Set the model to training mode - important for batch normalization and dropout layers\n",
    "# Unnecessary in this situation but added for best practices\n",
    "model.train()\n",
    "for batch, (X, y) in enumerate(dataloader):\n",
    "    # Compute prediction and loss\n",
    "    pred = model(X.to(device))\n",
    "    loss = loss_fn(pred, torch.tensor(y).to(device))\n",
    "\n",
    "    # Backpropagation\n",
    "    loss.backward()\n",
    "    optimizer.step()\n",
    "    optimizer.zero_grad()\n",
    "\n",
    "    if batch % 100 == 0:\n",
    "        loss, current = loss.item(), batch * dataloader.batch_size + len(X)\n",
    "        print(f\"loss: {loss:>7f}  [{current:>5d}/{size:>5d}]\")"
   ],
   "id": "99b3d0ff572b93b4",
   "outputs": [
    {
     "ename": "NameError",
     "evalue": "name 'train_dataloader' is not defined",
     "output_type": "error",
     "traceback": [
      "\u001B[31m---------------------------------------------------------------------------\u001B[39m",
      "\u001B[31mNameError\u001B[39m                                 Traceback (most recent call last)",
      "\u001B[36mCell\u001B[39m\u001B[36m \u001B[39m\u001B[32mIn[8]\u001B[39m\u001B[32m, line 1\u001B[39m\n\u001B[32m----> \u001B[39m\u001B[32m1\u001B[39m dataloader = \u001B[43mtrain_dataloader\u001B[49m\n\u001B[32m      2\u001B[39m size = \u001B[38;5;28mlen\u001B[39m(dataloader.dataset)\n\u001B[32m      3\u001B[39m \u001B[38;5;66;03m# Set the model to training mode - important for batch normalization and dropout layers\u001B[39;00m\n\u001B[32m      4\u001B[39m \u001B[38;5;66;03m# Unnecessary in this situation but added for best practices\u001B[39;00m\n",
      "\u001B[31mNameError\u001B[39m: name 'train_dataloader' is not defined"
     ]
    }
   ],
   "execution_count": 8
  },
  {
   "metadata": {},
   "cell_type": "code",
   "outputs": [],
   "execution_count": null,
   "source": "",
   "id": "af98a6b9f97fe1ca"
  }
 ],
 "metadata": {
  "kernelspec": {
   "display_name": "Python 3 (ipykernel)",
   "language": "python",
   "name": "python3"
  },
  "language_info": {
   "codemirror_mode": {
    "name": "ipython",
    "version": 2
   },
   "file_extension": ".py",
   "mimetype": "text/x-python",
   "name": "python",
   "nbconvert_exporter": "python",
   "pygments_lexer": "ipython2",
   "version": "2.7.6"
  }
 },
 "nbformat": 4,
 "nbformat_minor": 5
}
