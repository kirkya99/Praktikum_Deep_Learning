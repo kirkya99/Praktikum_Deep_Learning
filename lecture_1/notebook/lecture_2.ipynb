{
 "cells": [
  {
   "metadata": {},
   "cell_type": "markdown",
   "source": [
    "# UE2\n",
    "## A1: Iris-Datensatz\n",
    "Laden Sie den Iris-Datensatz\n"
   ],
   "id": "b34fe91909efc2eb"
  },
  {
   "metadata": {
    "ExecuteTime": {
     "end_time": "2025-03-14T09:44:25.056949Z",
     "start_time": "2025-03-14T09:44:25.050681Z"
    }
   },
   "cell_type": "code",
   "source": [
    "from random import shuffle\n",
    "\n",
    "from sklearn.datasets import load_iris\n",
    "import pandas as pd\n",
    "import numpy as np\n",
    "from sklearn.linear_model import Perceptron\n",
    "from sklearn.model_selection import train_test_split\n",
    "from sklearn.neural_network import MLPClassifier\n",
    "\n",
    "iris = load_iris(as_frame=True)"
   ],
   "id": "df2d5de443250b89",
   "outputs": [],
   "execution_count": 57
  },
  {
   "metadata": {},
   "cell_type": "markdown",
   "source": [
    "1. Wie viele Einträge umfasst der iris-Datensatz\n",
    "2. Welche Dimension hat ein Eintrag\n",
    "3. Wie viele Klassen?\n"
   ],
   "id": "a9c0c1c10cc7925"
  },
  {
   "metadata": {
    "ExecuteTime": {
     "end_time": "2025-03-14T09:44:25.105881Z",
     "start_time": "2025-03-14T09:44:25.101329Z"
    }
   },
   "cell_type": "code",
   "source": [
    "print('Python:')\n",
    "# A1.1\n",
    "print(f'Anzahl der Einträge: {len(iris.data)}')\n",
    "\n",
    "# A1.2\n",
    "print(f'Anzahl der Dimensionen: {len(iris.data.columns)}')\n",
    "\n",
    "# A1.3\n",
    "print(f'Anzahl der Klassen: {len(iris.target.unique())}')\n",
    "\n",
    "print('Pandas:')\n",
    "# A1.1 pandas\n",
    "print(f'Pandas: Anzahl der Einträge: {iris.data.shape[0]}')\n",
    "\n",
    "# A1.2 pandas\n",
    "print(f'Pandas: Anzahl der Dimensionen: {iris.data.shape[1]}')\n",
    "\n",
    "# A1.3 pandas\n",
    "print(f'Pandas: Anzahl der Klassen: {iris.target.nunique()}')"
   ],
   "id": "82d2c4c56e98bc64",
   "outputs": [
    {
     "name": "stdout",
     "output_type": "stream",
     "text": [
      "Python:\n",
      "Anzahl der Einträge: 150\n",
      "Anzahl der Dimensionen: 4\n",
      "Anzahl der Klassen: 3\n",
      "Pandas:\n",
      "Pandas: Anzahl der Einträge: 150\n",
      "Pandas: Anzahl der Dimensionen: 4\n",
      "Pandas: Anzahl der Klassen: 3\n"
     ]
    }
   ],
   "execution_count": 58
  },
  {
   "metadata": {},
   "cell_type": "markdown",
   "source": [
    "## A2: Klassifikation\n",
    "1. Erstellen Sie jeweils einen Klassifikator für die noch fehlenden Klassen\n",
    "2. Erstellen Sie die Funktion `classify` die zu einer Eingabe die entsprechende Klasse ausgibt"
   ],
   "id": "d6cfb10a23945f34"
  },
  {
   "metadata": {
    "ExecuteTime": {
     "end_time": "2025-03-14T09:44:25.225665Z",
     "start_time": "2025-03-14T09:44:25.213866Z"
    }
   },
   "cell_type": "code",
   "source": [
    "# A2.1\n",
    "X = iris.data[['petal length (cm)', 'petal width (cm)']]\n",
    "print(X.shape)\n",
    "\n",
    "y = (iris.target==0)\n",
    "print(y.shape)\n",
    "\n",
    "clf = Perceptron(random_state=42)\n",
    "clf.fit(X, y)\n",
    "\n",
    "print(clf.score(X, y))\n",
    "\n",
    "y_pred=clf.predict(X)\n",
    "print(y_pred)\n",
    "result=(y_pred==y)\n",
    "set(result)\n"
   ],
   "id": "40d94d5735fe8111",
   "outputs": [
    {
     "name": "stdout",
     "output_type": "stream",
     "text": [
      "(150, 2)\n",
      "(150,)\n",
      "1.0\n",
      "[ True  True  True  True  True  True  True  True  True  True  True  True\n",
      "  True  True  True  True  True  True  True  True  True  True  True  True\n",
      "  True  True  True  True  True  True  True  True  True  True  True  True\n",
      "  True  True  True  True  True  True  True  True  True  True  True  True\n",
      "  True  True False False False False False False False False False False\n",
      " False False False False False False False False False False False False\n",
      " False False False False False False False False False False False False\n",
      " False False False False False False False False False False False False\n",
      " False False False False False False False False False False False False\n",
      " False False False False False False False False False False False False\n",
      " False False False False False False False False False False False False\n",
      " False False False False False False False False False False False False\n",
      " False False False False False False]\n"
     ]
    },
    {
     "data": {
      "text/plain": [
       "{True}"
      ]
     },
     "execution_count": 59,
     "metadata": {},
     "output_type": "execute_result"
    }
   ],
   "execution_count": 59
  },
  {
   "metadata": {
    "ExecuteTime": {
     "end_time": "2025-03-14T09:44:25.284343Z",
     "start_time": "2025-03-14T09:44:25.273506Z"
    }
   },
   "cell_type": "code",
   "source": [
    "X_train, X_test, y_train, y_test = train_test_split(X, y, test_size=0.1, shuffle=True)\n",
    "clf1 = Perceptron(random_state=42)\n",
    "y_train_1=(y_train==0)\n",
    "clf1.fit(X_train, y_train_1)\n",
    "y_test_1=(y_test==0)\n",
    "print(clf1.score(X_test, y_test_1))\n",
    "\n",
    "y_pred1=clf1.predict(X_test)\n",
    "print(y_pred1)\n"
   ],
   "id": "15cc4d5a17182533",
   "outputs": [
    {
     "name": "stdout",
     "output_type": "stream",
     "text": [
      "1.0\n",
      "[False  True False  True False False  True  True  True False  True  True\n",
      " False  True  True]\n"
     ]
    }
   ],
   "execution_count": 60
  },
  {
   "metadata": {
    "ExecuteTime": {
     "end_time": "2025-03-14T09:44:25.656176Z",
     "start_time": "2025-03-14T09:44:25.353149Z"
    }
   },
   "cell_type": "code",
   "source": [
    "\n",
    "mlp_clf=MLPClassifier(hidden_layer_sizes=[5], max_iter=10_000, random_state=42)\n",
    "\n",
    "mlp_clf.fit(X_train, y_train)\n",
    "print(mlp_clf.score(X_test, y_test))\n",
    "\n",
    "mlp_clf.predict(X_test)"
   ],
   "id": "9193c91b97c80f24",
   "outputs": [
    {
     "name": "stdout",
     "output_type": "stream",
     "text": [
      "1.0\n"
     ]
    },
    {
     "data": {
      "text/plain": [
       "array([ True, False,  True, False,  True,  True, False, False, False,\n",
       "        True, False, False,  True, False, False])"
      ]
     },
     "execution_count": 61,
     "metadata": {},
     "output_type": "execute_result"
    }
   ],
   "execution_count": 61
  },
  {
   "metadata": {},
   "cell_type": "markdown",
   "source": [
    "## A3: Train-Test\n",
    "1. Splitten sie den iris-Datensatz, `test_size=0.1`\n",
    "2. Wiederholen Sie Aufgabe 2. Zum Trainieren verwenden Sie den entsprechenden Datensatz\n",
    "3. Berechnen Sie accuracy, recall und precision anhand des Testdatensatzes"
   ],
   "id": "5beec9a9902911fa"
  },
  {
   "metadata": {
    "ExecuteTime": {
     "end_time": "2025-03-14T09:44:25.665512Z",
     "start_time": "2025-03-14T09:44:25.663424Z"
    }
   },
   "cell_type": "code",
   "source": "",
   "id": "7c30f89e19f675b5",
   "outputs": [],
   "execution_count": null
  }
 ],
 "metadata": {
  "kernelspec": {
   "display_name": "Python 3",
   "language": "python",
   "name": "python3"
  },
  "language_info": {
   "codemirror_mode": {
    "name": "ipython",
    "version": 2
   },
   "file_extension": ".py",
   "mimetype": "text/x-python",
   "name": "python",
   "nbconvert_exporter": "python",
   "pygments_lexer": "ipython2",
   "version": "2.7.6"
  }
 },
 "nbformat": 4,
 "nbformat_minor": 5
}
