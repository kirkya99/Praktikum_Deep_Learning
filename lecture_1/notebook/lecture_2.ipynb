{
 "cells": [
  {
   "metadata": {},
   "cell_type": "markdown",
   "source": [
    "# UE2\n",
    "## A1: Iris-Datensatz\n",
    "Laden Sie den Iris-Datensatz\n"
   ],
   "id": "b34fe91909efc2eb"
  },
  {
   "metadata": {},
   "cell_type": "code",
   "outputs": [],
   "execution_count": null,
   "source": [
    "from sklearn.datasets import load_iris\n",
    "iris = load_iris(as_frame=True)"
   ],
   "id": "df2d5de443250b89"
  },
  {
   "metadata": {},
   "cell_type": "markdown",
   "source": [
    "1. Wie viele Einträge umfasst der iris-Datensatz\n",
    "2. Welche Dimension hat ein Eintrag\n",
    "3. Wie viele Klassen?\n"
   ],
   "id": "a9c0c1c10cc7925"
  },
  {
   "metadata": {},
   "cell_type": "code",
   "outputs": [],
   "execution_count": null,
   "source": "",
   "id": "82d2c4c56e98bc64"
  },
  {
   "metadata": {},
   "cell_type": "markdown",
   "source": [
    "## A2: Klassifikation\n",
    "1. Erstellen Sie jeweils einen Klassifikator für die noch fehlenden Klassen\n",
    "2. Erstellen Sie die Funktion `classify` die zu einer Eingabe die entsprechende Klasse ausgibt"
   ],
   "id": "d6cfb10a23945f34"
  },
  {
   "metadata": {},
   "cell_type": "code",
   "outputs": [],
   "execution_count": null,
   "source": "",
   "id": "40d94d5735fe8111"
  },
  {
   "metadata": {},
   "cell_type": "markdown",
   "source": [
    "## A3: Train-Test\n",
    "1. Splitten sie den iris-Datensatz, `test_size=0.1`\n",
    "2. Wiederholen Sie Aufgabe 2. Zum Trainieren verwenden Sie den entsprechenden Datensatz\n",
    "3. Berechnen Sie accuracy, recall und precision anhand des Testdatensatzes"
   ],
   "id": "5beec9a9902911fa"
  },
  {
   "metadata": {},
   "cell_type": "code",
   "outputs": [],
   "execution_count": null,
   "source": "",
   "id": "7c30f89e19f675b5"
  }
 ],
 "metadata": {
  "kernelspec": {
   "display_name": "Python 3",
   "language": "python",
   "name": "python3"
  },
  "language_info": {
   "codemirror_mode": {
    "name": "ipython",
    "version": 2
   },
   "file_extension": ".py",
   "mimetype": "text/x-python",
   "name": "python",
   "nbconvert_exporter": "python",
   "pygments_lexer": "ipython2",
   "version": "2.7.6"
  }
 },
 "nbformat": 4,
 "nbformat_minor": 5
}
