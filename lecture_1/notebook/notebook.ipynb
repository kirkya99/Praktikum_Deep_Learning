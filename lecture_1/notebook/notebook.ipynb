{
 "cells": [
  {
   "metadata": {},
   "cell_type": "markdown",
   "source": [
    "# Praktikum Deep Learning\n",
    "## A1: Einfache Python-Programme\n",
    "Für A1.1 und A1.2 nutzen Sie nur For-Schleifen\n",
    "1. Erstellen Sie ein Programm, dass das Maximum einer Liste zürckgibt\n",
    "2. Erstellen Sie ein Programm, dass sowohl Minimum als auch Maximum einer Liste zurückgibt.\n",
    "Verwenden Sie das Program aus Aufgabe 1\n",
    "3. Wie (b), nur mit allen Python Sprachmittel"
   ],
   "id": "d31001e38b47fabc"
  },
  {
   "metadata": {},
   "cell_type": "markdown",
   "source": [
    "# Add imports here\n",
    "from lecture_1.src import values as v\n",
    "\n",
    "values = v.Values()\n",
    "\n",
    "print(values.data)"
   ],
   "id": "55bee3f61c504a99"
  },
  {
   "metadata": {
    "ExecuteTime": {
     "end_time": "2025-03-13T10:39:07.179449Z",
     "start_time": "2025-03-13T10:39:07.175270Z"
    }
   },
   "cell_type": "code",
   "outputs": [],
   "execution_count": 1,
   "source": "",
   "id": "fbc121e30a2defb3"
  },
  {
   "metadata": {
    "ExecuteTime": {
     "end_time": "2025-03-13T10:39:07.265137Z",
     "start_time": "2025-03-13T10:39:07.256138Z"
    }
   },
   "cell_type": "code",
   "outputs": [],
   "execution_count": 2,
   "source": "# test\n",
   "id": "6ffe881df6cb6236"
  },
  {
   "metadata": {},
   "cell_type": "markdown",
   "source": [
    "\n",
    "## A2 Funktion 1\n",
    "1. Erstellen Sie die Funktion<br>\n",
    "   `def fun(x, w,b=0):`<br>\n",
    "   **Eingaben:** Gleichlange Listen von Zahlen $x$, $w$, Zahl $b$*<br>\n",
    "   **Ausgabe:**  $\\sum_{i=0}^{len(x)-1} w_i x_i + b$ Testen Sie die Funktion mit verschiedenen Eingaben.\n",
    "2. Gegeben Werte für $x(i),1<=i<=4$. Können Sie zu den Werten für $x(i)$ zwei Gewichte $w_0$, $w_1$ und $b$ finden, sodass gilt: $fun(x^{(i)}, w, b) > 0$ für $i=1, 2$ und $fun(x^{(i)}, w, b) < 0$ für $i=3, 4$.\n",
    "    <table>\n",
    "      <tr>\n",
    "        <th>Index</th>\n",
    "        <th>Feature 1</th>\n",
    "        <th>Feature 2</th>\n",
    "      </tr>\n",
    "      <tr>\n",
    "        <td>1</td>\n",
    "        <td>1.4</td>\n",
    "        <td>0.2</td>\n",
    "      </tr>\n",
    "      <tr>\n",
    "        <td>2</td>\n",
    "        <td>1.7</td>\n",
    "        <td>0.2</td>\n",
    "      </tr>\n",
    "      <tr>\n",
    "        <td>3</td>\n",
    "        <td>4.7</td>\n",
    "        <td>1.4</td>\n",
    "      </tr>\n",
    "      <tr>\n",
    "        <td>4</td>\n",
    "        <td>4.0</td>\n",
    "        <td>1.3</td>\n",
    "      </tr>\n",
    "    </table>\n",
    "3. Erweitern Sie die Funktion zu <br>\n",
    "   `def fun(x, w, b=0, act=None):`<br>\n",
    "   Falls `act != None` wird $\\text{act}(\\sum_{i=0}^{len(x)-1} w_i x_i + b)$ zurückgegeben.\n",
    "4. Erstellen Sie eine passende Funktion `act`, sodass für Aufgabe A2.2 jeweils 1 oder 0 zurückgegeben wird."
   ],
   "id": "ff75afefaa62dbcd"
  },
  {
   "metadata": {},
   "cell_type": "code",
   "outputs": [],
   "execution_count": null,
   "source": "",
   "id": "49ce514b2342d38f"
  },
  {
   "metadata": {},
   "cell_type": "markdown",
   "source": [
    "## A3: Klassen\n",
    "1. Erstellen Sie die Klasse `Desision`, die im Konstruktor $w$, $b$, $act$ übergeben bekommt ($b$, $act$ mit Defaultwerden), und die Methode `predict(x)`, die die Funktion `fun` aufruft.\n",
    "2. Wenden Sie eine Instanz der Klasse auf die Daten aus Aufgabe A2.2 an."
   ],
   "id": "17a55d617dbe0c0b"
  },
  {
   "metadata": {
    "ExecuteTime": {
     "end_time": "2025-03-13T10:39:07.383631Z",
     "start_time": "2025-03-13T10:39:07.381304Z"
    }
   },
   "cell_type": "code",
   "outputs": [],
   "execution_count": 3,
   "source": [
    "class Decision:\n",
    "    def __init__(self, w, b=0, act=None):\n",
    "        self.w = w\n",
    "        self.b = b\n",
    "        self.act = act\n",
    "\n",
    "    def predict(self, x):\n",
    "        return fun(x, self.w, self.b, self.act)"
   ],
   "id": "7e4d33b91adc9a2a"
  }
 ],
 "metadata": {
  "kernelspec": {
   "display_name": "Python 3",
   "language": "python",
   "name": "python3"
  },
  "language_info": {
   "codemirror_mode": {
    "name": "ipython",
    "version": 2
   },
   "file_extension": ".py",
   "mimetype": "text/x-python",
   "name": "python",
   "nbconvert_exporter": "python",
   "pygments_lexer": "ipython2",
   "version": "2.7.6"
  }
 },
 "nbformat": 4,
 "nbformat_minor": 5
}
