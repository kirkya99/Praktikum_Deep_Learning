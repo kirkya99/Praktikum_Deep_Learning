{
 "cells": [
  {
   "metadata": {
    "ExecuteTime": {
     "end_time": "2025-03-13T14:06:23.611716Z",
     "start_time": "2025-03-13T14:06:23.608405Z"
    }
   },
   "cell_type": "code",
   "source": [
    "# Add imports here\n",
    "from lecture_1.src import values as v\n",
    "import pandas as pd\n",
    "\n",
    "values = v.Values()\n",
    "\n",
    "print(values.data)"
   ],
   "id": "537e14f61df5116c",
   "outputs": [
    {
     "name": "stdout",
     "output_type": "stream",
     "text": [
      "{'Index': [1, 2, 3, 4], 'Feature 1': [1.4, 1.7, 4.7, 4.0], 'Feature 2': [0.2, 0.2, 1.4, 1.3]}\n"
     ]
    }
   ],
   "execution_count": 12
  },
  {
   "metadata": {},
   "cell_type": "markdown",
   "source": [
    "# UE1\n",
    "## A1: Einfache Python-Programme\n",
    "Für A1.1 und A1.2 nutzen Sie nur For-Schleifen\n",
    "1. Erstellen Sie ein Programm, dass das Maximum einer Liste zürckgibt\n",
    "2. Erstellen Sie ein Programm, dass sowohl Minimum als auch Maximum einer Liste zurückgibt.\n",
    "Verwenden Sie das Program aus Aufgabe 1\n",
    "3. Wie (b), nur mit allen Python Sprachmittel"
   ],
   "id": "d31001e38b47fabc"
  },
  {
   "metadata": {
    "ExecuteTime": {
     "end_time": "2025-03-13T14:06:23.662300Z",
     "start_time": "2025-03-13T14:06:23.658074Z"
    }
   },
   "cell_type": "code",
   "source": [
    "# A1.1\n",
    "def get_largest(array):\n",
    "    largest = array[0]\n",
    "    for num in array:\n",
    "        if num > largest:\n",
    "            largest = num\n",
    "    return largest\n",
    "\n",
    "\n",
    "# A1.2\n",
    "def get_largest_and_smallest(array):\n",
    "    largest = array[0]\n",
    "    smallest = array[0]\n",
    "    for num in array:\n",
    "        if num > largest:\n",
    "            largest = num\n",
    "        if num < smallest:\n",
    "            smallest = num\n",
    "    return largest, smallest\n",
    "\n",
    "\n",
    "# A1.3\n",
    "def get_largest_and_smallest_with_all_python_tools(array):\n",
    "    return max(array), min(array)\n"
   ],
   "id": "fbc121e30a2defb3",
   "outputs": [],
   "execution_count": 13
  },
  {
   "metadata": {
    "ExecuteTime": {
     "end_time": "2025-03-13T14:06:23.709167Z",
     "start_time": "2025-03-13T14:06:23.706634Z"
    }
   },
   "cell_type": "code",
   "source": "# test\n",
   "id": "6ffe881df6cb6236",
   "outputs": [],
   "execution_count": 14
  },
  {
   "metadata": {},
   "cell_type": "markdown",
   "source": [
    "\n",
    "## A2 Funktion 1\n",
    "1. Erstellen Sie die Funktion<br>\n",
    "   `def fun(x, w,b=0):`<br>\n",
    "   **Eingaben:** Gleichlange Listen von Zahlen $x$, $w$, Zahl $b$*<br>\n",
    "   **Ausgabe:**  $\\sum_{i=0}^{len(x)-1} w_i x_i + b$ Testen Sie die Funktion mit verschiedenen Eingaben.\n",
    "2. Gegeben Werte für $x(i),1<=i<=4$. Können Sie zu den Werten für $x(i)$ zwei Gewichte $w_0$, $w_1$ und $b$ finden, sodass gilt: $fun(x^{(i)}, w, b) > 0$ für $i=1, 2$ und $fun(x^{(i)}, w, b) < 0$ für $i=3, 4$.\n",
    "    <table>\n",
    "      <tr>\n",
    "        <th>Index</th>\n",
    "        <th>Feature 1</th>\n",
    "        <th>Feature 2</th>\n",
    "      </tr>\n",
    "      <tr>\n",
    "        <td>1</td>\n",
    "        <td>1.4</td>\n",
    "        <td>0.2</td>\n",
    "      </tr>\n",
    "      <tr>\n",
    "        <td>2</td>\n",
    "        <td>1.7</td>\n",
    "        <td>0.2</td>\n",
    "      </tr>\n",
    "      <tr>\n",
    "        <td>3</td>\n",
    "        <td>4.7</td>\n",
    "        <td>1.4</td>\n",
    "      </tr>\n",
    "      <tr>\n",
    "        <td>4</td>\n",
    "        <td>4.0</td>\n",
    "        <td>1.3</td>\n",
    "      </tr>\n",
    "    </table>\n",
    "3. Erweitern Sie die Funktion zu <br>\n",
    "   `def fun(x, w, b=0, act=None):`<br>\n",
    "   Falls `act != None` wird $\\text{act}(\\sum_{i=0}^{len(x)-1} w_i x_i + b)$ zurückgegeben.\n",
    "4. Erstellen Sie eine passende Funktion `act`, sodass für Aufgabe A2.2 jeweils 1 oder 0 zurückgegeben wird."
   ],
   "id": "ff75afefaa62dbcd"
  },
  {
   "metadata": {
    "ExecuteTime": {
     "end_time": "2025-03-13T14:06:23.756542Z",
     "start_time": "2025-03-13T14:06:23.752780Z"
    }
   },
   "cell_type": "code",
   "source": [
    "# A2.1\n",
    "def fun_a2_1(x, w, b=0):\n",
    "    return sum(w[i] * x[i] for i in range(len(x))) + b\n",
    "\n",
    "\n",
    "# A2.2\n",
    "def fun(x, w, b=0, act=None):\n",
    "    res = 0\n",
    "    for i in range(len(x)):\n",
    "        res += w[i] * x[i]\n",
    "    res += b\n",
    "    return act(res) if act else res\n",
    "\n",
    "\n",
    "def act(result):\n",
    "    if result > 0:\n",
    "        return 1\n",
    "    else:\n",
    "        return 0"
   ],
   "id": "49ce514b2342d38f",
   "outputs": [],
   "execution_count": 15
  },
  {
   "metadata": {},
   "cell_type": "markdown",
   "source": [
    "## A3: Klassen\n",
    "1. Erstellen Sie die Klasse `Desision`, die im Konstruktor $w$, $b$, $act$ übergeben bekommt ($b$, $act$ mit Defaultwerden), und die Methode `predict(x)`, die die Funktion `fun` aufruft.\n",
    "2. Wenden Sie eine Instanz der Klasse auf die Daten aus Aufgabe A2.2 an."
   ],
   "id": "17a55d617dbe0c0b"
  },
  {
   "metadata": {
    "ExecuteTime": {
     "end_time": "2025-03-13T14:06:23.804506Z",
     "start_time": "2025-03-13T14:06:23.801152Z"
    }
   },
   "cell_type": "code",
   "source": [
    "class Decision:\n",
    "    def __init__(self, w, b=0, act=None):\n",
    "        self.w = w\n",
    "        self.b = b\n",
    "        self.act = act\n",
    "\n",
    "    def predict(self, x):\n",
    "        res = []\n",
    "        for x_current in x:\n",
    "            res.append(fun(x_current, self.w, self.b, self.act))\n",
    "        return res"
   ],
   "id": "7e4d33b91adc9a2a",
   "outputs": [],
   "execution_count": 16
  },
  {
   "metadata": {
    "ExecuteTime": {
     "end_time": "2025-03-13T15:01:45.900887Z",
     "start_time": "2025-03-13T15:01:45.896441Z"
    }
   },
   "cell_type": "code",
   "source": [
    "w = [-0.708, -0.338]\n",
    "b = 2.271\n",
    "x = [[1.4, 0.2], [1.7, 0.2], [4.7, 1.4], [4.0, 1.3]]\n",
    "w_ = [-1, -5]\n",
    "b_ = 5\n",
    "\n",
    "print(f'w={w}, b={b}')\n",
    "instance = Decision(w, b, act)\n",
    "print(f'result with act: {instance.predict(x)}')\n",
    "instance = Decision(w, b)\n",
    "print(f'result without act: {instance.predict(x)}')\n",
    "\n",
    "print(f'w={w_}, b={b_}')\n",
    "instance = Decision(w_, b_, act)\n",
    "print(f'result with act: {instance.predict(x)}')\n",
    "instance = Decision(w_, b_)\n",
    "print(f'result without act: {instance.predict(x)}')\n",
    "\n"
   ],
   "id": "20f8ef423ca9e713",
   "outputs": [
    {
     "name": "stdout",
     "output_type": "stream",
     "text": [
      "w=[-0.708, -0.338], b=2.271\n",
      "result with act: [1, 1, 0, 0]\n",
      "result without act: [1.2122, 0.9997999999999998, -1.5297999999999998, -1.0004]\n",
      "w=[-1, -5], b=5\n",
      "result with act: [1, 1, 0, 0]\n",
      "result without act: [2.6, 2.3, -6.699999999999999, -5.5]\n"
     ]
    }
   ],
   "execution_count": 19
  }
 ],
 "metadata": {
  "kernelspec": {
   "display_name": "Python 3",
   "language": "python",
   "name": "python3"
  },
  "language_info": {
   "codemirror_mode": {
    "name": "ipython",
    "version": 2
   },
   "file_extension": ".py",
   "mimetype": "text/x-python",
   "name": "python",
   "nbconvert_exporter": "python",
   "pygments_lexer": "ipython2",
   "version": "2.7.6"
  }
 },
 "nbformat": 4,
 "nbformat_minor": 5
}
