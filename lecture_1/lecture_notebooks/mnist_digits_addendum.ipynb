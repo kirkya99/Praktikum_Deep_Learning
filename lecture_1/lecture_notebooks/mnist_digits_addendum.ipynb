{
 "cells": [
  {
   "cell_type": "code",
   "id": "initial_id",
   "metadata": {
    "collapsed": true,
    "jupyter": {
     "is_executing": true
    }
   },
   "source": [
    "import numpy as np\n",
    "import tensorflow as tf\n",
    "from tensorflow import keras\n",
    "from tensorflow.keras import layers\n",
    "from tensorflow.keras import mixed_precision\n",
    "import math\n",
    "import matplotlib.pyplot as plt\n",
    "\n",
    "\n",
    "def plot_samples(data, n=5, max_cols=5, cmap=\"tab20\"):\n",
    "    n = min(len(data), n)\n",
    "    if n < max_cols:\n",
    "        rows = 1\n",
    "        cols = n\n",
    "    else:\n",
    "        rows = math.ceil(n / max_cols)\n",
    "        cols = max_cols\n",
    "    print(f\"rows: {rows}, cols: {cols}\")\n",
    "    fig, ax = plt.subplots(nrows=rows, ncols=cols, sharex=True, sharey=True, figsize=(20, 10))\n",
    "    #ax = ax.flatten()\n",
    "    index = 0\n",
    "    for i in range(rows):\n",
    "        for j in range(cols):\n",
    "            img = data[index]\n",
    "            index += 1\n",
    "            #    .numpy().reshape(X.shape[1],X.shape[2],2)\n",
    "            print()\n",
    "            ax[i, j].imshow(img, cmap=cmap, interpolation='nearest')\n",
    "            if index >= n:\n",
    "                break\n",
    "\n",
    "    #ax[0].set_xticks([])\n",
    "    #ax[0].set_yticks([])\n",
    "    plt.tight_layout()\n",
    "    # plt.savefig('./figures/mnist_all.png', dpi=300)\n",
    "    plt.show()"
   ],
   "outputs": [],
   "execution_count": null
  },
  {
   "metadata": {
    "ExecuteTime": {
     "end_time": "2025-04-24T18:54:18.575534187Z",
     "start_time": "2025-04-13T09:19:19.022543Z"
    }
   },
   "cell_type": "code",
   "source": [
    "# Herunterladen der MNIST Daten als Trainings- und Testdaten\n",
    "(mnist_images, mnist_labels), (mnist_images_test, mnist_labels_test) = tf.keras.datasets.mnist.load_data()\n",
    "\n",
    "# Preprocessing der \n",
    "X_train = tf.cast(mnist_images[..., tf.newaxis] / 255, tf.float32)\n",
    "y_train = tf.cast(mnist_labels, tf.int64)\n",
    "\n",
    "X_test = tf.cast(mnist_images_test[..., tf.newaxis] / 255, tf.float32)\n",
    "y_test = tf.cast(mnist_labels_test, tf.int64)\n",
    "\n",
    "num_category = 10\n",
    "\n",
    "y_train_v = tf.keras.utils.to_categorical(y_train, num_category)\n",
    "y_test_v = tf.keras.utils.to_categorical(y_test, num_category)\n",
    "\n",
    "dataset = tf.data.Dataset.from_tensor_slices(\n",
    "    (tf.cast(mnist_images[..., tf.newaxis] / 255, tf.float32), tf.cast(mnist_labels, tf.int64)))\n",
    "batch_size = 128\n",
    "dataset = dataset.shuffle(1000).batch(batch_size)\n",
    "\n",
    "dataset_test = tf.data.Dataset.from_tensor_slices((X_test, y_test))\n",
    "dataset_test = dataset_test.shuffle(1000).batch(batch_size)\n",
    "\n",
    "x_train, x_test = mnist_images / 255.0, mnist_images_test / 255.0\n",
    "\n",
    "# Add a channels dimension\n",
    "x_train = x_train[..., tf.newaxis].astype(\"float32\")\n",
    "x_test = x_test[..., tf.newaxis].astype(\"float32\")\n",
    "batch = 128\n",
    "train_ds = tf.data.Dataset.from_tensor_slices((x_train, y_train)).shuffle(10000).batch(batch_size=batch)\n",
    "\n",
    "test_ds = tf.data.Dataset.from_tensor_slices((x_test, y_test)).batch(32)"
   ],
   "id": "f366f3406a752049",
   "outputs": [],
   "execution_count": 6
  },
  {
   "metadata": {
    "ExecuteTime": {
     "end_time": "2025-04-24T18:54:18.576167999Z",
     "start_time": "2025-04-13T09:19:26.060280Z"
    }
   },
   "cell_type": "code",
   "source": "mnist_images.shape",
   "id": "fdb3ba86a23150e1",
   "outputs": [
    {
     "data": {
      "text/plain": [
       "(60000, 28, 28)"
      ]
     },
     "execution_count": 8,
     "metadata": {},
     "output_type": "execute_result"
    }
   ],
   "execution_count": 8
  },
  {
   "metadata": {
    "jupyter": {
     "is_executing": true
    }
   },
   "cell_type": "code",
   "source": [
    "base_model = tf.keras.Sequential(\n",
    "        [\n",
    "        tf.keras.layers.Flatten(),\n",
    "        tf.keras.layers.Dense(20, activation=\"relu\", kernel_initializer=\"he_normal\"),\n",
    "        tf.keras.layers.Dense(10, activation=\"softmax\", kernel_initializer=\"he_normal\"),\n",
    "        ]\n",
    "    )\n",
    "base_model.build(input_shape=(None, 28, 28, 1))\n",
    "opti = tf.keras.optimizers.SGD(\n",
    "        learning_rate=0.02, momentum=0.00,\n",
    "        nesterov=False, name='SGD'\n",
    "        )\n",
    "opti2 = tf.keras.optimizers.Adelta()\n",
    "opti3 = tf.keras.optimizers.Adam()\n"
   ],
   "id": "ae835062b1bd8c3f",
   "outputs": [],
   "execution_count": null
  }
 ],
 "metadata": {
  "kernelspec": {
   "display_name": "Python 3",
   "language": "python",
   "name": "python3"
  },
  "language_info": {
   "codemirror_mode": {
    "name": "ipython",
    "version": 2
   },
   "file_extension": ".py",
   "mimetype": "text/x-python",
   "name": "python",
   "nbconvert_exporter": "python",
   "pygments_lexer": "ipython2",
   "version": "2.7.6"
  }
 },
 "nbformat": 4,
 "nbformat_minor": 5
}
