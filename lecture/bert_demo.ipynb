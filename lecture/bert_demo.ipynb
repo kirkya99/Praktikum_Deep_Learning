{
 "cells": [
  {
   "cell_type": "code",
   "execution_count": null,
   "id": "1d3f2ced",
   "metadata": {},
   "outputs": [],
   "source": [
    "from transformers import pipeline, AutoTokenizer, AutoModel\n",
    "\n",
    "bert_tiny = 'google/bert_uncased_L-2_H-128_A-2'\n",
    "bert = AutoModel.from_pretrained(bert_tiny)\n",
    "tokenizer = AutoTokenizer.from_pretrained(bert_tiny)"
   ]
  },
  {
   "cell_type": "code",
   "execution_count": null,
   "id": "0b5bc8aa",
   "metadata": {},
   "outputs": [
    {
     "ename": "",
     "evalue": "",
     "output_type": "error",
     "traceback": [
      "\u001b[1;31mFailed to connect to the remote Jupyter Server 'http://127.0.0.1:8888/'. Verify the server is running and reachable. (Failed to connect to the remote Jupyter Server 'http://127.0.0.1:8888/'. Verify the server is running and reachable. (request to http://127.0.0.1:8888/api/kernels?1746733424416 failed, reason: connect ECONNREFUSED 127.0.0.1:8888).)."
     ]
    }
   ],
   "source": [
    "print(bert)"
   ]
  },
  {
   "cell_type": "code",
   "execution_count": null,
   "id": "c042c707",
   "metadata": {},
   "outputs": [],
   "source": [
    "inp = tokenizer(\"hallo welt\", return_tensors=\"pt\")\n",
    "print(inp)"
   ]
  },
  {
   "cell_type": "code",
   "execution_count": null,
   "id": "53bd8c01",
   "metadata": {},
   "outputs": [],
   "source": [
    "y = bert(inp['input_ids'], inp['attention_mask'])\n",
    "print(y.keys())"
   ]
  },
  {
   "cell_type": "code",
   "execution_count": null,
   "id": "c5b9306e",
   "metadata": {},
   "outputs": [],
   "source": [
    "print(y['pooler_output'].shape)\n",
    "print(y['last_hidden_state'].shape)"
   ]
  },
  {
   "cell_type": "code",
   "execution_count": null,
   "id": "1a11d684",
   "metadata": {},
   "outputs": [],
   "source": [
    "mask_filler = pipeline(model=bert_tiny, task=\"fill-mask\")\n",
    "mask_filler(\"This is a [MASK] world.\")"
   ]
  }
 ],
 "metadata": {
  "kernelspec": {
   "display_name": "Python 3 (ipykernel)",
   "language": "python",
   "name": "python3"
  }
 },
 "nbformat": 4,
 "nbformat_minor": 5
}
