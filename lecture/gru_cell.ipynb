{
 "cells": [
  {
   "cell_type": "code",
   "execution_count": 1,
   "id": "52593bee",
   "metadata": {},
   "outputs": [
    {
     "name": "stderr",
     "output_type": "stream",
     "text": [
      "2025-05-08 19:14:22.410239: I tensorflow/core/util/port.cc:110] oneDNN custom operations are on. You may see slightly different numerical results due to floating-point round-off errors from different computation orders. To turn them off, set the environment variable `TF_ENABLE_ONEDNN_OPTS=0`.\n",
      "2025-05-08 19:14:22.411284: I tensorflow/tsl/cuda/cudart_stub.cc:28] Could not find cuda drivers on your machine, GPU will not be used.\n",
      "2025-05-08 19:14:22.431691: I tensorflow/tsl/cuda/cudart_stub.cc:28] Could not find cuda drivers on your machine, GPU will not be used.\n",
      "2025-05-08 19:14:22.432054: I tensorflow/core/platform/cpu_feature_guard.cc:182] This TensorFlow binary is optimized to use available CPU instructions in performance-critical operations.\n",
      "To enable the following instructions: AVX2 AVX_VNNI FMA, in other operations, rebuild TensorFlow with the appropriate compiler flags.\n"
     ]
    }
   ],
   "source": [
    "import tensorflow as tf\n",
    "import keras"
   ]
  },
  {
   "cell_type": "code",
   "execution_count": 2,
   "id": "d4f3d441",
   "metadata": {},
   "outputs": [
    {
     "name": "stderr",
     "output_type": "stream",
     "text": [
      "2025-05-08 19:14:48.953432: E tensorflow/compiler/xla/stream_executor/cuda/cuda_driver.cc:266] failed call to cuInit: CUDA_ERROR_NO_DEVICE: no CUDA-capable device is detected\n",
      "2025-05-08 19:14:48.953451: I tensorflow/compiler/xla/stream_executor/cuda/cuda_diagnostics.cc:168] retrieving CUDA diagnostic information for host: 9c0a971006ac\n",
      "2025-05-08 19:14:48.953455: I tensorflow/compiler/xla/stream_executor/cuda/cuda_diagnostics.cc:175] hostname: 9c0a971006ac\n",
      "2025-05-08 19:14:48.953489: I tensorflow/compiler/xla/stream_executor/cuda/cuda_diagnostics.cc:199] libcuda reported version is: 570.133.7\n",
      "2025-05-08 19:14:48.953497: I tensorflow/compiler/xla/stream_executor/cuda/cuda_diagnostics.cc:203] kernel reported version is: 570.133.7\n",
      "2025-05-08 19:14:48.953500: I tensorflow/compiler/xla/stream_executor/cuda/cuda_diagnostics.cc:309] kernel version seems to match DSO: 570.133.7\n"
     ]
    }
   ],
   "source": [
    "layer = keras.layers.GRU(1, stateful=True)\n",
    "layers_s = keras.layers.GRU(2, return_sequences=True, return_state=True)"
   ]
  },
  {
   "cell_type": "code",
   "execution_count": 3,
   "id": "d5dca714",
   "metadata": {},
   "outputs": [
    {
     "name": "stdout",
     "output_type": "stream",
     "text": [
      "(3, 4)\n",
      "tf.Tensor([[-0.463429]], shape=(1, 1), dtype=float32)\n"
     ]
    }
   ],
   "source": [
    "tokens = tf.constant([[1, 2.1, 3, 4], [1, 2, 3, 4], [0, 2, 3, 4]])\n",
    "print(tokens.shape)\n",
    "inp_tensor = tf.reshape(tokens, (1, 3, 4))\n",
    "print(layer(inp_tensor))"
   ]
  },
  {
   "cell_type": "code",
   "execution_count": 4,
   "id": "6c6d2fd5",
   "metadata": {},
   "outputs": [
    {
     "name": "stdout",
     "output_type": "stream",
     "text": [
      "[<tf.Tensor: shape=(1, 3, 2), dtype=float32, numpy=\n",
      "array([[[0.08749311, 0.57524586],\n",
      "        [0.17843355, 0.8247869 ],\n",
      "        [0.31418216, 0.8517587 ]]], dtype=float32)>, <tf.Tensor: shape=(1, 2), dtype=float32, numpy=array([[0.31418216, 0.8517587 ]], dtype=float32)>]\n"
     ]
    }
   ],
   "source": [
    "print(layers_s(inp_tensor))"
   ]
  },
  {
   "cell_type": "code",
   "execution_count": 5,
   "id": "4e13ba31",
   "metadata": {},
   "outputs": [
    {
     "name": "stdout",
     "output_type": "stream",
     "text": [
      "tf.Tensor(\n",
      "[[[0.08749311 0.57524586]\n",
      "  [0.17843355 0.8247869 ]\n",
      "  [0.31418216 0.8517587 ]]], shape=(1, 3, 2), dtype=float32)\n",
      "tf.Tensor([[0.31418216 0.8517587 ]], shape=(1, 2), dtype=float32)\n"
     ]
    }
   ],
   "source": [
    "(output, state) = layers_s(inp_tensor)\n",
    "print(output)\n",
    "print(state)"
   ]
  },
  {
   "cell_type": "code",
   "execution_count": null,
   "id": "0b25c6e3",
   "metadata": {},
   "outputs": [],
   "source": []
  }
 ],
 "metadata": {
  "kernelspec": {
   "display_name": "Python 3 (ipykernel)",
   "language": "python",
   "name": "python3"
  },
  "language_info": {
   "codemirror_mode": {
    "name": "ipython",
    "version": 3
   },
   "file_extension": ".py",
   "mimetype": "text/x-python",
   "name": "python",
   "nbconvert_exporter": "python",
   "pygments_lexer": "ipython3",
   "version": "3.11.11"
  }
 },
 "nbformat": 4,
 "nbformat_minor": 5
}
