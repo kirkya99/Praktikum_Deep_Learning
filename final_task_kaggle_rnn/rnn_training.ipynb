{
 "cells": [
  {
   "cell_type": "markdown",
   "id": "14ff7c47",
   "metadata": {},
   "source": [
    "# Finale Aufgabe für Praktikum Deep Learning <br>Textgenerierung mit RNN: Modelltraining\n",
    "\n",
    "* **Name:** Fabian Schotte\n",
    "* **Email:** fabian.schotte@rwu.de\n",
    "* **Matrikelnummer:** 35604\n",
    "* **Studiengang:** Angewandte Informatik"
   ]
  },
  {
   "cell_type": "code",
   "execution_count": 1,
   "id": "2cb461a8",
   "metadata": {},
   "outputs": [
    {
     "name": "stderr",
     "output_type": "stream",
     "text": [
      "2025-06-09 20:03:48.448799: I tensorflow/core/util/port.cc:153] oneDNN custom operations are on. You may see slightly different numerical results due to floating-point round-off errors from different computation orders. To turn them off, set the environment variable `TF_ENABLE_ONEDNN_OPTS=0`.\n",
      "2025-06-09 20:03:48.455716: E external/local_xla/xla/stream_executor/cuda/cuda_fft.cc:477] Unable to register cuFFT factory: Attempting to register factory for plugin cuFFT when one has already been registered\n",
      "WARNING: All log messages before absl::InitializeLog() is called are written to STDERR\n",
      "E0000 00:00:1749499428.464044  300622 cuda_dnn.cc:8310] Unable to register cuDNN factory: Attempting to register factory for plugin cuDNN when one has already been registered\n",
      "E0000 00:00:1749499428.466586  300622 cuda_blas.cc:1418] Unable to register cuBLAS factory: Attempting to register factory for plugin cuBLAS when one has already been registered\n",
      "2025-06-09 20:03:48.475101: I tensorflow/core/platform/cpu_feature_guard.cc:210] This TensorFlow binary is optimized to use available CPU instructions in performance-critical operations.\n",
      "To enable the following instructions: AVX2 AVX_VNNI FMA, in other operations, rebuild TensorFlow with the appropriate compiler flags.\n"
     ]
    }
   ],
   "source": [
    "import pandas as pd\n",
    "import numpy as np\n",
    "import tensorflow as tf\n",
    "from tensorflow import keras\n",
    "import os\n",
    "import matplotlib.pylab as plt\n",
    "from work import models\n",
    "import time \n",
    "\n",
    "os.makedirs(\"models\", exist_ok=True)"
   ]
  },
  {
   "cell_type": "markdown",
   "id": "41bc877b",
   "metadata": {},
   "source": [
    "## Vorbereitung\n"
   ]
  },
  {
   "cell_type": "markdown",
   "id": "3b982723",
   "metadata": {},
   "source": [
    "### Laden der Trainingsdaten"
   ]
  },
  {
   "cell_type": "code",
   "execution_count": 2,
   "id": "e1343b35",
   "metadata": {},
   "outputs": [
    {
     "name": "stdout",
     "output_type": "stream",
     "text": [
      " I`d have responded, if I were going\n",
      " Sooo SAD I will miss you here in San Diego!!!\n",
      "my boss is bullying me...\n",
      " what interview! leave me alone\n",
      " Sons of ****, why couldn`t they put them on the releases we already bought\n",
      "http://www.dothebouncy.com/smf - some shameless plugging for the best Rangers forum on earth\n",
      "2am feedings for the baby are fun when he is all smiles and coos\n",
      "Soooo high\n",
      " Both of you\n",
      " Journey!? Wow... u just became cooler.  hehe... (is that possible!?)\n",
      " as much as i love to be hopef\n"
     ]
    }
   ],
   "source": [
    "df_train = pd.read_csv('work/kaggle_sentiment/tweet_sentiment_train.csv', encoding='utf-8', encoding_errors='replace')\n",
    "df_test = pd.read_csv('work/kaggle_sentiment/tweet_sentiment_test.csv', encoding='utf-8', encoding_errors='replace')\n",
    "\n",
    "kaggle_text_train = df_train['text'].str.cat(sep='\\n')\n",
    "kaggle_text_test = df_test['text'].str.cat(sep='\\n')\n",
    "# kaggle_text = kaggle_text_train + '\\n' + kaggle_text_test\n",
    "kaggle_text = kaggle_text_train\n",
    "# kaggle_text = kaggle_text_test\n",
    "\n",
    "print(kaggle_text[:500])"
   ]
  },
  {
   "cell_type": "code",
   "execution_count": 3,
   "id": "e74c7dd3",
   "metadata": {},
   "outputs": [
    {
     "name": "stdout",
     "output_type": "stream",
     "text": [
      "['\\t', '\\n', ' ', '!', '#', '$', '%', '&', \"'\", '(', ')', '*', '+', ',', '-', '.', '/', '0', '1', '2', '3', '4', '5', '6', '7', '8', '9', ':', ';', '<', '=', '>', '?', '@', 'A', 'B', 'C', 'D', 'E', 'F', 'G', 'H', 'I', 'J', 'K', 'L', 'M', 'N', 'O', 'P', 'Q', 'R', 'S', 'T', 'U', 'V', 'W', 'X', 'Y', 'Z', '[', '\\\\', ']', '^', '_', '`', 'a', 'b', 'c', 'd', 'e', 'f', 'g', 'h', 'i', 'j', 'k', 'l', 'm', 'n', 'o', 'p', 'q', 'r', 's', 't', 'u', 'v', 'w', 'x', 'y', 'z', '{', '|', '}', '~', '\\xa0', '´', '½', '¿', 'Â', 'ï']\n",
      "vocab size = 102\n"
     ]
    }
   ],
   "source": [
    "vocab = sorted(set(kaggle_text))\n",
    "print(vocab)\n",
    "print(f\"vocab size = {len(vocab)}\")"
   ]
  },
  {
   "cell_type": "markdown",
   "id": "393ee022",
   "metadata": {},
   "source": [
    "## Preprocessing"
   ]
  },
  {
   "cell_type": "code",
   "execution_count": 4,
   "id": "21db466f",
   "metadata": {},
   "outputs": [],
   "source": [
    "# example_texts = ['hello world', 'hello world']\n",
    "# chars = tf.strings.unicode_split(example_texts, input_encoding='UTF-8')\n",
    "# chars"
   ]
  },
  {
   "cell_type": "code",
   "execution_count": 5,
   "id": "8e6db8a3",
   "metadata": {},
   "outputs": [
    {
     "name": "stderr",
     "output_type": "stream",
     "text": [
      "I0000 00:00:1749499429.875933  300622 gpu_device.cc:2022] Created device /job:localhost/replica:0/task:0/device:GPU:0 with 8012 MB memory:  -> device: 0, name: NVIDIA GeForce RTX 4070, pci bus id: 0000:01:00.0, compute capability: 8.9\n"
     ]
    }
   ],
   "source": [
    "ids_from_chars = keras.layers.StringLookup(vocabulary=list(vocab), mask_token=None)\n",
    "# ids = ids_from_chars(chars)\n",
    "# print(ids)\n",
    "\n",
    "chars_from_ids = keras.layers.StringLookup(vocabulary=ids_from_chars.get_vocabulary(), invert=True, mask_token=None)\n",
    "# chars = chars_from_ids(ids)\n",
    "# print(chars)\n",
    "\n",
    "# tf.strings.reduce_join(chars, axis=-1).numpy()"
   ]
  },
  {
   "cell_type": "code",
   "execution_count": 6,
   "id": "af0b9950",
   "metadata": {},
   "outputs": [],
   "source": [
    "def text_from_ids(ids):\n",
    "  return tf.strings.reduce_join(chars_from_ids(ids), axis=-1)"
   ]
  },
  {
   "cell_type": "code",
   "execution_count": 7,
   "id": "2463304f",
   "metadata": {},
   "outputs": [
    {
     "data": {
      "text/plain": [
       "<tf.Tensor: shape=(1905188,), dtype=int64, numpy=array([ 3, 43, 66, ..., 85, 11, 11])>"
      ]
     },
     "execution_count": 7,
     "metadata": {},
     "output_type": "execute_result"
    }
   ],
   "source": [
    "all_ids = ids_from_chars(tf.strings.unicode_split(kaggle_text, 'UTF-8'))\n",
    "all_ids"
   ]
  },
  {
   "cell_type": "code",
   "execution_count": 8,
   "id": "c811c16b",
   "metadata": {},
   "outputs": [
    {
     "name": "stdout",
     "output_type": "stream",
     "text": [
      " \n",
      "I\n",
      "`\n",
      "d\n",
      " \n",
      "h\n",
      "a\n",
      "v\n",
      "e\n",
      " \n"
     ]
    },
    {
     "name": "stderr",
     "output_type": "stream",
     "text": [
      "2025-06-09 20:03:50.252845: I tensorflow/core/framework/local_rendezvous.cc:405] Local rendezvous is aborting with status: OUT_OF_RANGE: End of sequence\n"
     ]
    }
   ],
   "source": [
    "ids_dataset = tf.data.Dataset.from_tensor_slices(all_ids)\n",
    "\n",
    "for ids in ids_dataset.take(10):\n",
    "    print(chars_from_ids(ids).numpy().decode('utf-8'))"
   ]
  },
  {
   "cell_type": "code",
   "execution_count": null,
   "id": "f4a270a0",
   "metadata": {},
   "outputs": [],
   "source": [
    "seq_length = 100"
   ]
  },
  {
   "cell_type": "code",
   "execution_count": 10,
   "id": "ce1c8fa1",
   "metadata": {},
   "outputs": [
    {
     "name": "stdout",
     "output_type": "stream",
     "text": [
      "[b' ' b'I' b'`' b'd' b' ' b'h' b'a' b'v' b'e' b' ' b'r' b'e' b's' b'p'\n",
      " b'o' b'n' b'd' b'e' b'd' b',' b' ' b'i' b'f' b' ' b'I' b' ' b'w' b'e'\n",
      " b'r' b'e' b' ' b'g' b'o' b'i' b'n' b'g' b'\\n' b' ' b'S' b'o' b'o' b'o'\n",
      " b' ' b'S' b'A' b'D' b' ' b'I' b' ' b'w' b'i' b'l' b'l' b' ' b'm' b'i'\n",
      " b's' b's' b' ' b'y' b'o' b'u' b' ' b'h' b'e' b'r' b'e' b' ' b'i' b'n'\n",
      " b' ' b'S' b'a' b'n' b' ' b'D' b'i' b'e' b'g' b'o' b'!' b'!' b'!' b'\\n'\n",
      " b'm' b'y' b' ' b'b' b'o' b's' b's' b' ' b'i' b's' b' ' b'b' b'u' b'l'\n",
      " b'l' b'y' b'i']\n",
      "b' I`d have responded, if I were going\\n Sooo SAD I will miss you here in San Diego!!!\\nmy boss is bullyi'\n"
     ]
    },
    {
     "name": "stderr",
     "output_type": "stream",
     "text": [
      "2025-06-09 20:03:50.309053: I tensorflow/core/framework/local_rendezvous.cc:405] Local rendezvous is aborting with status: OUT_OF_RANGE: End of sequence\n"
     ]
    }
   ],
   "source": [
    "sequences = ids_dataset.batch(seq_length + 1, drop_remainder=True)\n",
    "\n",
    "for seq in sequences.take(1):\n",
    "  print(chars_from_ids(seq).numpy())\n",
    "for seq in sequences.take(1):\n",
    "  print(text_from_ids(seq).numpy())"
   ]
  },
  {
   "cell_type": "code",
   "execution_count": 11,
   "id": "323da8b6",
   "metadata": {},
   "outputs": [],
   "source": [
    "def split_input_target(sequence):\n",
    "    input_text = sequence[:-1]\n",
    "    target_text = sequence[1:]\n",
    "    return input_text, target_text"
   ]
  },
  {
   "cell_type": "code",
   "execution_count": 12,
   "id": "4340e8f3",
   "metadata": {},
   "outputs": [],
   "source": [
    "# split_input_target(list(\"Tensorflow\"))"
   ]
  },
  {
   "cell_type": "code",
   "execution_count": 13,
   "id": "87752867",
   "metadata": {},
   "outputs": [
    {
     "data": {
      "text/plain": [
       "18863"
      ]
     },
     "execution_count": 13,
     "metadata": {},
     "output_type": "execute_result"
    }
   ],
   "source": [
    "dataset = sequences.map(split_input_target)\n",
    "len(dataset)"
   ]
  },
  {
   "cell_type": "code",
   "execution_count": 14,
   "id": "15082ca1",
   "metadata": {},
   "outputs": [
    {
     "name": "stdout",
     "output_type": "stream",
     "text": [
      "Input: b' I`d have responded, if I were going\\n Sooo SAD I will miss you here in San Diego!!!\\nmy boss is bully'\n",
      "Target: b'I`d have responded, if I were going\\n Sooo SAD I will miss you here in San Diego!!!\\nmy boss is bullyi'\n",
      "Input shape: (100,)\n",
      "Target shape: (100,)\n"
     ]
    },
    {
     "name": "stderr",
     "output_type": "stream",
     "text": [
      "2025-06-09 20:03:50.404611: I tensorflow/core/framework/local_rendezvous.cc:405] Local rendezvous is aborting with status: OUT_OF_RANGE: End of sequence\n"
     ]
    }
   ],
   "source": [
    "for input_example, target_example in dataset.take(1):\n",
    "    print(\"Input:\", text_from_ids(input_example).numpy())\n",
    "    print(\"Target:\", text_from_ids(target_example).numpy())\n",
    "    print(\"Input shape:\", input_example.shape)\n",
    "    print(\"Target shape:\", target_example.shape)"
   ]
  },
  {
   "cell_type": "code",
   "execution_count": 15,
   "id": "07fcb3d6",
   "metadata": {},
   "outputs": [
    {
     "data": {
      "text/plain": [
       "<_BatchDataset element_spec=(TensorSpec(shape=(150, 100), dtype=tf.int64, name=None), TensorSpec(shape=(150, 100), dtype=tf.int64, name=None))>"
      ]
     },
     "execution_count": 15,
     "metadata": {},
     "output_type": "execute_result"
    }
   ],
   "source": [
    "BATCH_SIZE = 150\n",
    "BUFFER_SIZE = 1000\n",
    "\n",
    "dataset = (\n",
    "    dataset\n",
    "    .shuffle(BUFFER_SIZE)\n",
    "    .batch(BATCH_SIZE, drop_remainder=True)\n",
    ")\n",
    "dataset"
   ]
  },
  {
   "cell_type": "code",
   "execution_count": 16,
   "id": "2ba2c8c9",
   "metadata": {},
   "outputs": [],
   "source": [
    "vocab_size = len(ids_from_chars.get_vocabulary())\n",
    "embedding_dim = 256\n",
    "rnn_units = 2048"
   ]
  },
  {
   "cell_type": "markdown",
   "id": "841381c6",
   "metadata": {},
   "source": [
    "### 1. GRU-Modell"
   ]
  },
  {
   "cell_type": "code",
   "execution_count": 17,
   "id": "b69bd304",
   "metadata": {},
   "outputs": [],
   "source": [
    "vocab_size_1 = len(ids_from_chars.get_vocabulary())\n",
    "embedding_dim_1 = 256\n",
    "rnn_units_1 = 2048"
   ]
  },
  {
   "cell_type": "code",
   "execution_count": 18,
   "id": "e96b3aa5",
   "metadata": {},
   "outputs": [],
   "source": [
    "inputs_1 = keras.layers.Input(shape=(None,), dtype='int32', name='input_tokens')\n",
    "embedding_1 = keras.layers.Embedding(input_dim=vocab_size_1, output_dim=embedding_dim_1)(inputs_1)\n",
    "gru_1, gru_state_1 = keras.layers.GRU(units=rnn_units_1, return_sequences=True, return_state=True)(embedding_1)\n",
    "gru_1, gru_state_1 = keras.layers.GRU(units=rnn_units_1, return_sequences=True, return_state=True)(gru_1)\n",
    "outputs_1 = keras.layers.Dense(units=vocab_size, activation='softmax')(gru_1)\n",
    "\n",
    "gru_model_1 =  keras.Model(inputs=inputs_1, outputs=outputs_1)"
   ]
  },
  {
   "cell_type": "markdown",
   "id": "a22341a1",
   "metadata": {},
   "source": [
    "#### Testen des Modells"
   ]
  },
  {
   "cell_type": "code",
   "execution_count": 19,
   "id": "2b412ea6",
   "metadata": {},
   "outputs": [
    {
     "name": "stdout",
     "output_type": "stream",
     "text": [
      "(150, 100, 103) # (batch_size, sequence_length, vocab_size)\n"
     ]
    },
    {
     "name": "stderr",
     "output_type": "stream",
     "text": [
      "I0000 00:00:1749499435.217958  300752 cuda_dnn.cc:529] Loaded cuDNN version 90501\n"
     ]
    }
   ],
   "source": [
    "for input_example_batch, target_example_batch in dataset.take(1):\n",
    "    example_batch_predictions_model_1 = gru_model_1(input_example_batch)\n",
    "    print(example_batch_predictions_model_1.shape, \"# (batch_size, sequence_length, vocab_size)\")"
   ]
  },
  {
   "cell_type": "code",
   "execution_count": 20,
   "id": "d4b2b294",
   "metadata": {},
   "outputs": [
    {
     "data": {
      "text/html": [
       "<pre style=\"white-space:pre;overflow-x:auto;line-height:normal;font-family:Menlo,'DejaVu Sans Mono',consolas,'Courier New',monospace\"><span style=\"font-weight: bold\">Model: \"functional\"</span>\n",
       "</pre>\n"
      ],
      "text/plain": [
       "\u001b[1mModel: \"functional\"\u001b[0m\n"
      ]
     },
     "metadata": {},
     "output_type": "display_data"
    },
    {
     "data": {
      "text/html": [
       "<pre style=\"white-space:pre;overflow-x:auto;line-height:normal;font-family:Menlo,'DejaVu Sans Mono',consolas,'Courier New',monospace\">┏━━━━━━━━━━━━━━━━━━━━━━━━━━━━━━━━━┳━━━━━━━━━━━━━━━━━━━━━━━━┳━━━━━━━━━━━━━━━┓\n",
       "┃<span style=\"font-weight: bold\"> Layer (type)                    </span>┃<span style=\"font-weight: bold\"> Output Shape           </span>┃<span style=\"font-weight: bold\">       Param # </span>┃\n",
       "┡━━━━━━━━━━━━━━━━━━━━━━━━━━━━━━━━━╇━━━━━━━━━━━━━━━━━━━━━━━━╇━━━━━━━━━━━━━━━┩\n",
       "│ input_tokens (<span style=\"color: #0087ff; text-decoration-color: #0087ff\">InputLayer</span>)       │ (<span style=\"color: #00d7ff; text-decoration-color: #00d7ff\">None</span>, <span style=\"color: #00d7ff; text-decoration-color: #00d7ff\">None</span>)           │             <span style=\"color: #00af00; text-decoration-color: #00af00\">0</span> │\n",
       "├─────────────────────────────────┼────────────────────────┼───────────────┤\n",
       "│ embedding (<span style=\"color: #0087ff; text-decoration-color: #0087ff\">Embedding</span>)           │ (<span style=\"color: #00d7ff; text-decoration-color: #00d7ff\">None</span>, <span style=\"color: #00d7ff; text-decoration-color: #00d7ff\">None</span>, <span style=\"color: #00af00; text-decoration-color: #00af00\">256</span>)      │        <span style=\"color: #00af00; text-decoration-color: #00af00\">26,368</span> │\n",
       "├─────────────────────────────────┼────────────────────────┼───────────────┤\n",
       "│ gru (<span style=\"color: #0087ff; text-decoration-color: #0087ff\">GRU</span>)                       │ [(<span style=\"color: #00d7ff; text-decoration-color: #00d7ff\">None</span>, <span style=\"color: #00d7ff; text-decoration-color: #00d7ff\">None</span>, <span style=\"color: #00af00; text-decoration-color: #00af00\">2048</span>),   │    <span style=\"color: #00af00; text-decoration-color: #00af00\">14,168,064</span> │\n",
       "│                                 │ (<span style=\"color: #00d7ff; text-decoration-color: #00d7ff\">None</span>, <span style=\"color: #00af00; text-decoration-color: #00af00\">2048</span>)]          │               │\n",
       "├─────────────────────────────────┼────────────────────────┼───────────────┤\n",
       "│ gru_1 (<span style=\"color: #0087ff; text-decoration-color: #0087ff\">GRU</span>)                     │ [(<span style=\"color: #00d7ff; text-decoration-color: #00d7ff\">None</span>, <span style=\"color: #00d7ff; text-decoration-color: #00d7ff\">None</span>, <span style=\"color: #00af00; text-decoration-color: #00af00\">2048</span>),   │    <span style=\"color: #00af00; text-decoration-color: #00af00\">25,178,112</span> │\n",
       "│                                 │ (<span style=\"color: #00d7ff; text-decoration-color: #00d7ff\">None</span>, <span style=\"color: #00af00; text-decoration-color: #00af00\">2048</span>)]          │               │\n",
       "├─────────────────────────────────┼────────────────────────┼───────────────┤\n",
       "│ dense (<span style=\"color: #0087ff; text-decoration-color: #0087ff\">Dense</span>)                   │ (<span style=\"color: #00d7ff; text-decoration-color: #00d7ff\">None</span>, <span style=\"color: #00d7ff; text-decoration-color: #00d7ff\">None</span>, <span style=\"color: #00af00; text-decoration-color: #00af00\">103</span>)      │       <span style=\"color: #00af00; text-decoration-color: #00af00\">211,047</span> │\n",
       "└─────────────────────────────────┴────────────────────────┴───────────────┘\n",
       "</pre>\n"
      ],
      "text/plain": [
       "┏━━━━━━━━━━━━━━━━━━━━━━━━━━━━━━━━━┳━━━━━━━━━━━━━━━━━━━━━━━━┳━━━━━━━━━━━━━━━┓\n",
       "┃\u001b[1m \u001b[0m\u001b[1mLayer (type)                   \u001b[0m\u001b[1m \u001b[0m┃\u001b[1m \u001b[0m\u001b[1mOutput Shape          \u001b[0m\u001b[1m \u001b[0m┃\u001b[1m \u001b[0m\u001b[1m      Param #\u001b[0m\u001b[1m \u001b[0m┃\n",
       "┡━━━━━━━━━━━━━━━━━━━━━━━━━━━━━━━━━╇━━━━━━━━━━━━━━━━━━━━━━━━╇━━━━━━━━━━━━━━━┩\n",
       "│ input_tokens (\u001b[38;5;33mInputLayer\u001b[0m)       │ (\u001b[38;5;45mNone\u001b[0m, \u001b[38;5;45mNone\u001b[0m)           │             \u001b[38;5;34m0\u001b[0m │\n",
       "├─────────────────────────────────┼────────────────────────┼───────────────┤\n",
       "│ embedding (\u001b[38;5;33mEmbedding\u001b[0m)           │ (\u001b[38;5;45mNone\u001b[0m, \u001b[38;5;45mNone\u001b[0m, \u001b[38;5;34m256\u001b[0m)      │        \u001b[38;5;34m26,368\u001b[0m │\n",
       "├─────────────────────────────────┼────────────────────────┼───────────────┤\n",
       "│ gru (\u001b[38;5;33mGRU\u001b[0m)                       │ [(\u001b[38;5;45mNone\u001b[0m, \u001b[38;5;45mNone\u001b[0m, \u001b[38;5;34m2048\u001b[0m),   │    \u001b[38;5;34m14,168,064\u001b[0m │\n",
       "│                                 │ (\u001b[38;5;45mNone\u001b[0m, \u001b[38;5;34m2048\u001b[0m)]          │               │\n",
       "├─────────────────────────────────┼────────────────────────┼───────────────┤\n",
       "│ gru_1 (\u001b[38;5;33mGRU\u001b[0m)                     │ [(\u001b[38;5;45mNone\u001b[0m, \u001b[38;5;45mNone\u001b[0m, \u001b[38;5;34m2048\u001b[0m),   │    \u001b[38;5;34m25,178,112\u001b[0m │\n",
       "│                                 │ (\u001b[38;5;45mNone\u001b[0m, \u001b[38;5;34m2048\u001b[0m)]          │               │\n",
       "├─────────────────────────────────┼────────────────────────┼───────────────┤\n",
       "│ dense (\u001b[38;5;33mDense\u001b[0m)                   │ (\u001b[38;5;45mNone\u001b[0m, \u001b[38;5;45mNone\u001b[0m, \u001b[38;5;34m103\u001b[0m)      │       \u001b[38;5;34m211,047\u001b[0m │\n",
       "└─────────────────────────────────┴────────────────────────┴───────────────┘\n"
      ]
     },
     "metadata": {},
     "output_type": "display_data"
    },
    {
     "data": {
      "text/html": [
       "<pre style=\"white-space:pre;overflow-x:auto;line-height:normal;font-family:Menlo,'DejaVu Sans Mono',consolas,'Courier New',monospace\"><span style=\"font-weight: bold\"> Total params: </span><span style=\"color: #00af00; text-decoration-color: #00af00\">39,583,591</span> (151.00 MB)\n",
       "</pre>\n"
      ],
      "text/plain": [
       "\u001b[1m Total params: \u001b[0m\u001b[38;5;34m39,583,591\u001b[0m (151.00 MB)\n"
      ]
     },
     "metadata": {},
     "output_type": "display_data"
    },
    {
     "data": {
      "text/html": [
       "<pre style=\"white-space:pre;overflow-x:auto;line-height:normal;font-family:Menlo,'DejaVu Sans Mono',consolas,'Courier New',monospace\"><span style=\"font-weight: bold\"> Trainable params: </span><span style=\"color: #00af00; text-decoration-color: #00af00\">39,583,591</span> (151.00 MB)\n",
       "</pre>\n"
      ],
      "text/plain": [
       "\u001b[1m Trainable params: \u001b[0m\u001b[38;5;34m39,583,591\u001b[0m (151.00 MB)\n"
      ]
     },
     "metadata": {},
     "output_type": "display_data"
    },
    {
     "data": {
      "text/html": [
       "<pre style=\"white-space:pre;overflow-x:auto;line-height:normal;font-family:Menlo,'DejaVu Sans Mono',consolas,'Courier New',monospace\"><span style=\"font-weight: bold\"> Non-trainable params: </span><span style=\"color: #00af00; text-decoration-color: #00af00\">0</span> (0.00 B)\n",
       "</pre>\n"
      ],
      "text/plain": [
       "\u001b[1m Non-trainable params: \u001b[0m\u001b[38;5;34m0\u001b[0m (0.00 B)\n"
      ]
     },
     "metadata": {},
     "output_type": "display_data"
    }
   ],
   "source": [
    "gru_model_1.summary()"
   ]
  },
  {
   "cell_type": "code",
   "execution_count": 21,
   "id": "4c9ad158",
   "metadata": {},
   "outputs": [
    {
     "data": {
      "text/plain": [
       "array([ 17,  15,  80,  78,  28,  97,  88,  37,  25,  55,  51,  11,  17,\n",
       "        34,  43,  74,  12,  10,  15,  12,  55,  79,  35,   2,  20,  16,\n",
       "        32,  45,  69,  66,  51,  28,  53,  24,  52,  28,  60,  51,  42,\n",
       "        33,   4,  48, 102,  96,   1,  94,  50,  85,  42,   0,  46,  83,\n",
       "        90,   7,  42,  66,  50,   8,  84,  80,  76,  33,  16,  84,  34,\n",
       "        93,  35,   9,  66,  85,  51, 102,  48,  75,  86,  48,  63,  95,\n",
       "        34,  62,   5,  75,  99,  55,  54,  57,  55,  35,  40,  61,  46,\n",
       "        47,  85,  18,  73,   4,  45,  54,  14,  42])"
      ]
     },
     "execution_count": 21,
     "metadata": {},
     "output_type": "execute_result"
    }
   ],
   "source": [
    "sampled_indices_model_1 = tf.random.categorical(example_batch_predictions_model_1[0], num_samples=1)\n",
    "sampled_indices_model_1 = tf.squeeze(sampled_indices_model_1, axis=-1).numpy()\n",
    "sampled_indices_model_1"
   ]
  },
  {
   "cell_type": "code",
   "execution_count": 22,
   "id": "230a92d2",
   "metadata": {},
   "outputs": [
    {
     "name": "stdout",
     "output_type": "stream",
     "text": [
      "Input:\n",
      " b'ay\\ncomes home in two days\\n Sadly no. It didn`t come with one...\\nCant wait to see my boy tomorrow\\n eh'\n",
      "\n",
      "Next Char Predictions:\n",
      " b\"/-nl:\\xc2\\xa0vC7UQ)/@Ih*(-*UmA\\n2.>Kc`Q:S6R:ZQH?!N\\xc3\\xaf~\\t|PsH[UNK]Lqx%H`P&rnj?.r@{A'`sQ\\xc3\\xafNitN]}@\\\\#i\\xc2\\xbdUTWUAF[LMs0g!KT,H\"\n"
     ]
    }
   ],
   "source": [
    "print(\"Input:\\n\", text_from_ids(input_example_batch[0]).numpy())\n",
    "print()\n",
    "print(\"Next Char Predictions:\\n\", text_from_ids(sampled_indices_model_1).numpy())"
   ]
  },
  {
   "cell_type": "markdown",
   "id": "4296be9c",
   "metadata": {},
   "source": [
    "### Training"
   ]
  },
  {
   "cell_type": "markdown",
   "id": "00ec9d4f",
   "metadata": {},
   "source": [
    "#### Loss"
   ]
  },
  {
   "cell_type": "code",
   "execution_count": 23,
   "id": "36f093d2",
   "metadata": {},
   "outputs": [],
   "source": [
    "loss = tf.losses.SparseCategoricalCrossentropy(from_logits=True)"
   ]
  },
  {
   "cell_type": "code",
   "execution_count": 24,
   "id": "4e10bf12",
   "metadata": {},
   "outputs": [
    {
     "name": "stdout",
     "output_type": "stream",
     "text": [
      "Prediction shape:  (150, 100, 103)  # (batch_size, sequence_length, vocab_size)\n",
      "Mean loss:         tf.Tensor(4.634062, shape=(), dtype=float32)\n"
     ]
    },
    {
     "name": "stderr",
     "output_type": "stream",
     "text": [
      "/opt/conda/lib/python3.12/site-packages/keras/src/backend/tensorflow/nn.py:708: UserWarning: \"`sparse_categorical_crossentropy` received `from_logits=True`, but the `output` argument was produced by a Softmax activation and thus does not represent logits. Was this intended?\n",
      "  output, from_logits = _get_logits(\n"
     ]
    }
   ],
   "source": [
    "example_batch_mean_loss_model_1 = loss(target_example_batch, example_batch_predictions_model_1)\n",
    "print(\"Prediction shape: \", example_batch_predictions_model_1.shape, \" # (batch_size, sequence_length, vocab_size)\")\n",
    "print(\"Mean loss:        \", example_batch_mean_loss_model_1)"
   ]
  },
  {
   "cell_type": "code",
   "execution_count": 25,
   "id": "fa76abe6",
   "metadata": {},
   "outputs": [
    {
     "data": {
      "text/plain": [
       "np.float32(102.931305)"
      ]
     },
     "execution_count": 25,
     "metadata": {},
     "output_type": "execute_result"
    }
   ],
   "source": [
    "tf.exp(example_batch_mean_loss_model_1).numpy()"
   ]
  },
  {
   "cell_type": "markdown",
   "id": "fd1bdf6c",
   "metadata": {},
   "source": [
    "#### Optimizer"
   ]
  },
  {
   "cell_type": "code",
   "execution_count": 26,
   "id": "25f161a4",
   "metadata": {},
   "outputs": [],
   "source": [
    "gru_model_1.compile(optimizer='adam', loss=loss, metrics=['accuracy'], run_eagerly=True)"
   ]
  },
  {
   "cell_type": "markdown",
   "id": "dac7c9de",
   "metadata": {},
   "source": [
    "#### Early Stopping"
   ]
  },
  {
   "cell_type": "code",
   "execution_count": 27,
   "id": "b4652cfc",
   "metadata": {},
   "outputs": [],
   "source": [
    "early_stopping_gru_model_1 = keras.callbacks.EarlyStopping(monitor=\"loss\", min_delta=0.002, patience=2)"
   ]
  },
  {
   "cell_type": "markdown",
   "id": "10208b14",
   "metadata": {},
   "source": [
    "#### Konfiguration von Checkpoints"
   ]
  },
  {
   "cell_type": "code",
   "execution_count": 28,
   "id": "7a35c5d6",
   "metadata": {},
   "outputs": [],
   "source": [
    "checkpoint_dir = './work/training_checkpoints/gru_model_1'\n",
    "checkpoint_prefix = os.path.join(checkpoint_dir, \"ckpt_{epoch}.weights.h5\")\n",
    "\n",
    "checkpoint_callback_gru_model_1=tf.keras.callbacks.ModelCheckpoint(\n",
    "    filepath=checkpoint_prefix,\n",
    "    save_weights_only=True)"
   ]
  },
  {
   "cell_type": "markdown",
   "id": "6032ed9b",
   "metadata": {},
   "source": [
    "#### Ausführen des Trainings"
   ]
  },
  {
   "cell_type": "code",
   "execution_count": 29,
   "id": "705b9dbe",
   "metadata": {},
   "outputs": [],
   "source": [
    "EPOCHS = 30"
   ]
  },
  {
   "cell_type": "code",
   "execution_count": 30,
   "id": "0cc8bbc6",
   "metadata": {},
   "outputs": [
    {
     "name": "stdout",
     "output_type": "stream",
     "text": [
      "Epoch 1/30\n",
      "\u001b[1m125/125\u001b[0m \u001b[32m━━━━━━━━━━━━━━━━━━━━\u001b[0m\u001b[37m\u001b[0m \u001b[1m33s\u001b[0m 261ms/step - accuracy: 0.1881 - loss: 3.6060\n",
      "Epoch 2/30\n",
      "\u001b[1m125/125\u001b[0m \u001b[32m━━━━━━━━━━━━━━━━━━━━\u001b[0m\u001b[37m\u001b[0m \u001b[1m33s\u001b[0m 264ms/step - accuracy: 0.3946 - loss: 2.1938\n",
      "Epoch 3/30\n",
      "\u001b[1m125/125\u001b[0m \u001b[32m━━━━━━━━━━━━━━━━━━━━\u001b[0m\u001b[37m\u001b[0m \u001b[1m33s\u001b[0m 263ms/step - accuracy: 0.4885 - loss: 1.8243\n",
      "Epoch 4/30\n",
      "\u001b[1m125/125\u001b[0m \u001b[32m━━━━━━━━━━━━━━━━━━━━\u001b[0m\u001b[37m\u001b[0m \u001b[1m33s\u001b[0m 264ms/step - accuracy: 0.5286 - loss: 1.6596\n",
      "Epoch 5/30\n",
      "\u001b[1m125/125\u001b[0m \u001b[32m━━━━━━━━━━━━━━━━━━━━\u001b[0m\u001b[37m\u001b[0m \u001b[1m33s\u001b[0m 263ms/step - accuracy: 0.5521 - loss: 1.5638\n",
      "Epoch 6/30\n",
      "\u001b[1m125/125\u001b[0m \u001b[32m━━━━━━━━━━━━━━━━━━━━\u001b[0m\u001b[37m\u001b[0m \u001b[1m33s\u001b[0m 263ms/step - accuracy: 0.5696 - loss: 1.4886\n",
      "Epoch 7/30\n",
      "\u001b[1m125/125\u001b[0m \u001b[32m━━━━━━━━━━━━━━━━━━━━\u001b[0m\u001b[37m\u001b[0m \u001b[1m33s\u001b[0m 262ms/step - accuracy: 0.5871 - loss: 1.4172\n",
      "Epoch 8/30\n",
      "\u001b[1m125/125\u001b[0m \u001b[32m━━━━━━━━━━━━━━━━━━━━\u001b[0m\u001b[37m\u001b[0m \u001b[1m33s\u001b[0m 262ms/step - accuracy: 0.6060 - loss: 1.3407\n",
      "Epoch 9/30\n",
      "\u001b[1m125/125\u001b[0m \u001b[32m━━━━━━━━━━━━━━━━━━━━\u001b[0m\u001b[37m\u001b[0m \u001b[1m33s\u001b[0m 264ms/step - accuracy: 0.6280 - loss: 1.2567\n",
      "Epoch 10/30\n",
      "\u001b[1m125/125\u001b[0m \u001b[32m━━━━━━━━━━━━━━━━━━━━\u001b[0m\u001b[37m\u001b[0m \u001b[1m33s\u001b[0m 265ms/step - accuracy: 0.6540 - loss: 1.1630\n",
      "Epoch 11/30\n",
      "\u001b[1m125/125\u001b[0m \u001b[32m━━━━━━━━━━━━━━━━━━━━\u001b[0m\u001b[37m\u001b[0m \u001b[1m33s\u001b[0m 263ms/step - accuracy: 0.6839 - loss: 1.0590\n",
      "Epoch 12/30\n",
      "\u001b[1m125/125\u001b[0m \u001b[32m━━━━━━━━━━━━━━━━━━━━\u001b[0m\u001b[37m\u001b[0m \u001b[1m33s\u001b[0m 264ms/step - accuracy: 0.7173 - loss: 0.9468\n",
      "Epoch 13/30\n",
      "\u001b[1m125/125\u001b[0m \u001b[32m━━━━━━━━━━━━━━━━━━━━\u001b[0m\u001b[37m\u001b[0m \u001b[1m33s\u001b[0m 265ms/step - accuracy: 0.7538 - loss: 0.8264\n",
      "Epoch 14/30\n",
      "\u001b[1m125/125\u001b[0m \u001b[32m━━━━━━━━━━━━━━━━━━━━\u001b[0m\u001b[37m\u001b[0m \u001b[1m33s\u001b[0m 264ms/step - accuracy: 0.7884 - loss: 0.7126\n",
      "Epoch 15/30\n",
      "\u001b[1m125/125\u001b[0m \u001b[32m━━━━━━━━━━━━━━━━━━━━\u001b[0m\u001b[37m\u001b[0m \u001b[1m33s\u001b[0m 263ms/step - accuracy: 0.8200 - loss: 0.6102\n",
      "Epoch 16/30\n",
      "\u001b[1m125/125\u001b[0m \u001b[32m━━━━━━━━━━━━━━━━━━━━\u001b[0m\u001b[37m\u001b[0m \u001b[1m33s\u001b[0m 264ms/step - accuracy: 0.8446 - loss: 0.5259\n",
      "Epoch 17/30\n",
      "\u001b[1m125/125\u001b[0m \u001b[32m━━━━━━━━━━━━━━━━━━━━\u001b[0m\u001b[37m\u001b[0m \u001b[1m33s\u001b[0m 263ms/step - accuracy: 0.8652 - loss: 0.4565\n",
      "Epoch 18/30\n",
      "\u001b[1m125/125\u001b[0m \u001b[32m━━━━━━━━━━━━━━━━━━━━\u001b[0m\u001b[37m\u001b[0m \u001b[1m33s\u001b[0m 264ms/step - accuracy: 0.8793 - loss: 0.4064\n",
      "Epoch 19/30\n",
      "\u001b[1m125/125\u001b[0m \u001b[32m━━━━━━━━━━━━━━━━━━━━\u001b[0m\u001b[37m\u001b[0m \u001b[1m33s\u001b[0m 263ms/step - accuracy: 0.8901 - loss: 0.3688\n",
      "Epoch 20/30\n",
      "\u001b[1m125/125\u001b[0m \u001b[32m━━━━━━━━━━━━━━━━━━━━\u001b[0m\u001b[37m\u001b[0m \u001b[1m33s\u001b[0m 264ms/step - accuracy: 0.8987 - loss: 0.3391\n",
      "Epoch 21/30\n",
      "\u001b[1m125/125\u001b[0m \u001b[32m━━━━━━━━━━━━━━━━━━━━\u001b[0m\u001b[37m\u001b[0m \u001b[1m33s\u001b[0m 262ms/step - accuracy: 0.9038 - loss: 0.3189\n",
      "Epoch 22/30\n",
      "\u001b[1m125/125\u001b[0m \u001b[32m━━━━━━━━━━━━━━━━━━━━\u001b[0m\u001b[37m\u001b[0m \u001b[1m33s\u001b[0m 260ms/step - accuracy: 0.9070 - loss: 0.3062\n",
      "Epoch 23/30\n",
      "\u001b[1m125/125\u001b[0m \u001b[32m━━━━━━━━━━━━━━━━━━━━\u001b[0m\u001b[37m\u001b[0m \u001b[1m32s\u001b[0m 259ms/step - accuracy: 0.9075 - loss: 0.2999\n",
      "Epoch 24/30\n",
      "\u001b[1m125/125\u001b[0m \u001b[32m━━━━━━━━━━━━━━━━━━━━\u001b[0m\u001b[37m\u001b[0m \u001b[1m33s\u001b[0m 267ms/step - accuracy: 0.9084 - loss: 0.2939\n",
      "Epoch 25/30\n",
      "\u001b[1m125/125\u001b[0m \u001b[32m━━━━━━━━━━━━━━━━━━━━\u001b[0m\u001b[37m\u001b[0m \u001b[1m33s\u001b[0m 265ms/step - accuracy: 0.9071 - loss: 0.2958\n",
      "Epoch 26/30\n",
      "\u001b[1m125/125\u001b[0m \u001b[32m━━━━━━━━━━━━━━━━━━━━\u001b[0m\u001b[37m\u001b[0m \u001b[1m33s\u001b[0m 262ms/step - accuracy: 0.9053 - loss: 0.2981\n"
     ]
    }
   ],
   "source": [
    "start = time.perf_counter()\n",
    "gru_model_1_history = gru_model_1.fit(dataset, epochs=EPOCHS, callbacks=[checkpoint_callback_gru_model_1, early_stopping_gru_model_1])\n",
    "end = time.perf_counter()\n",
    "gru_model_1_training_time = end - start"
   ]
  },
  {
   "cell_type": "markdown",
   "id": "79f24ea6",
   "metadata": {},
   "source": [
    "#### Speichern"
   ]
  },
  {
   "cell_type": "code",
   "execution_count": 31,
   "id": "b0f10f8d",
   "metadata": {},
   "outputs": [],
   "source": [
    "gru_model_1.save('work/models/gru_model_1.keras')"
   ]
  },
  {
   "cell_type": "markdown",
   "id": "b20ecd01",
   "metadata": {},
   "source": [
    "### 2. GRU-Modell"
   ]
  },
  {
   "cell_type": "code",
   "execution_count": 32,
   "id": "ba0e1520",
   "metadata": {},
   "outputs": [],
   "source": [
    "vocab_size_2 = len(ids_from_chars.get_vocabulary())\n",
    "embedding_dim_2 = 256\n",
    "rnn_units_2 = 1024"
   ]
  },
  {
   "cell_type": "code",
   "execution_count": 61,
   "id": "c047b8b0",
   "metadata": {},
   "outputs": [],
   "source": [
    "inputs_2 = keras.layers.Input(shape=(None,), dtype='int32', name='input_tokens')\n",
    "embedding_2 = keras.layers.Embedding(input_dim=vocab_size_2, output_dim=embedding_dim_2)(inputs_2)\n",
    "gru_2, gru_state_2 = keras.layers.GRU(units=rnn_units_2, return_sequences=True, return_state=True)(embedding_2)\n",
    "dropout_2 = keras.layers.Dropout(0.2)(gru_2)\n",
    "gru_2, gru_state_2 = keras.layers.GRU(units=rnn_units_2, return_sequences=True, return_state=True)(dropout_2)\n",
    "outputs_2 = keras.layers.Dense(units=vocab_size, activation='softmax')(gru_2)\n",
    "\n",
    "gru_model_2 = keras.Model(inputs=inputs_2, outputs=outputs_2)"
   ]
  },
  {
   "cell_type": "markdown",
   "id": "2c103cdc",
   "metadata": {},
   "source": [
    "#### Testen des Modells"
   ]
  },
  {
   "cell_type": "code",
   "execution_count": 62,
   "id": "0fd13b5a",
   "metadata": {},
   "outputs": [
    {
     "name": "stdout",
     "output_type": "stream",
     "text": [
      "(150, 100, 103) # (batch_size, sequence_length, vocab_size)\n"
     ]
    },
    {
     "name": "stderr",
     "output_type": "stream",
     "text": [
      "2025-06-09 20:26:36.864798: I tensorflow/core/framework/local_rendezvous.cc:405] Local rendezvous is aborting with status: OUT_OF_RANGE: End of sequence\n"
     ]
    }
   ],
   "source": [
    "for input_example_batch, target_example_batch in dataset.take(1):\n",
    "    example_batch_predictions_gru_model_2 = gru_model_2(input_example_batch)\n",
    "    print(example_batch_predictions_gru_model_2.shape, \"# (batch_size, sequence_length, vocab_size)\")"
   ]
  },
  {
   "cell_type": "code",
   "execution_count": 63,
   "id": "b9acd0b9",
   "metadata": {},
   "outputs": [
    {
     "data": {
      "text/html": [
       "<pre style=\"white-space:pre;overflow-x:auto;line-height:normal;font-family:Menlo,'DejaVu Sans Mono',consolas,'Courier New',monospace\"><span style=\"font-weight: bold\">Model: \"functional_3\"</span>\n",
       "</pre>\n"
      ],
      "text/plain": [
       "\u001b[1mModel: \"functional_3\"\u001b[0m\n"
      ]
     },
     "metadata": {},
     "output_type": "display_data"
    },
    {
     "data": {
      "text/html": [
       "<pre style=\"white-space:pre;overflow-x:auto;line-height:normal;font-family:Menlo,'DejaVu Sans Mono',consolas,'Courier New',monospace\">┏━━━━━━━━━━━━━━━━━━━━━━━━━━━━━━━━━┳━━━━━━━━━━━━━━━━━━━━━━━━┳━━━━━━━━━━━━━━━┓\n",
       "┃<span style=\"font-weight: bold\"> Layer (type)                    </span>┃<span style=\"font-weight: bold\"> Output Shape           </span>┃<span style=\"font-weight: bold\">       Param # </span>┃\n",
       "┡━━━━━━━━━━━━━━━━━━━━━━━━━━━━━━━━━╇━━━━━━━━━━━━━━━━━━━━━━━━╇━━━━━━━━━━━━━━━┩\n",
       "│ input_tokens (<span style=\"color: #0087ff; text-decoration-color: #0087ff\">InputLayer</span>)       │ (<span style=\"color: #00d7ff; text-decoration-color: #00d7ff\">None</span>, <span style=\"color: #00d7ff; text-decoration-color: #00d7ff\">None</span>)           │             <span style=\"color: #00af00; text-decoration-color: #00af00\">0</span> │\n",
       "├─────────────────────────────────┼────────────────────────┼───────────────┤\n",
       "│ embedding_3 (<span style=\"color: #0087ff; text-decoration-color: #0087ff\">Embedding</span>)         │ (<span style=\"color: #00d7ff; text-decoration-color: #00d7ff\">None</span>, <span style=\"color: #00d7ff; text-decoration-color: #00d7ff\">None</span>, <span style=\"color: #00af00; text-decoration-color: #00af00\">256</span>)      │        <span style=\"color: #00af00; text-decoration-color: #00af00\">26,368</span> │\n",
       "├─────────────────────────────────┼────────────────────────┼───────────────┤\n",
       "│ gru_4 (<span style=\"color: #0087ff; text-decoration-color: #0087ff\">GRU</span>)                     │ [(<span style=\"color: #00d7ff; text-decoration-color: #00d7ff\">None</span>, <span style=\"color: #00d7ff; text-decoration-color: #00d7ff\">None</span>, <span style=\"color: #00af00; text-decoration-color: #00af00\">1024</span>),   │     <span style=\"color: #00af00; text-decoration-color: #00af00\">3,938,304</span> │\n",
       "│                                 │ (<span style=\"color: #00d7ff; text-decoration-color: #00d7ff\">None</span>, <span style=\"color: #00af00; text-decoration-color: #00af00\">1024</span>)]          │               │\n",
       "├─────────────────────────────────┼────────────────────────┼───────────────┤\n",
       "│ dropout_1 (<span style=\"color: #0087ff; text-decoration-color: #0087ff\">Dropout</span>)             │ (<span style=\"color: #00d7ff; text-decoration-color: #00d7ff\">None</span>, <span style=\"color: #00d7ff; text-decoration-color: #00d7ff\">None</span>, <span style=\"color: #00af00; text-decoration-color: #00af00\">1024</span>)     │             <span style=\"color: #00af00; text-decoration-color: #00af00\">0</span> │\n",
       "├─────────────────────────────────┼────────────────────────┼───────────────┤\n",
       "│ gru_5 (<span style=\"color: #0087ff; text-decoration-color: #0087ff\">GRU</span>)                     │ [(<span style=\"color: #00d7ff; text-decoration-color: #00d7ff\">None</span>, <span style=\"color: #00d7ff; text-decoration-color: #00d7ff\">None</span>, <span style=\"color: #00af00; text-decoration-color: #00af00\">1024</span>),   │     <span style=\"color: #00af00; text-decoration-color: #00af00\">6,297,600</span> │\n",
       "│                                 │ (<span style=\"color: #00d7ff; text-decoration-color: #00d7ff\">None</span>, <span style=\"color: #00af00; text-decoration-color: #00af00\">1024</span>)]          │               │\n",
       "├─────────────────────────────────┼────────────────────────┼───────────────┤\n",
       "│ dense_3 (<span style=\"color: #0087ff; text-decoration-color: #0087ff\">Dense</span>)                 │ (<span style=\"color: #00d7ff; text-decoration-color: #00d7ff\">None</span>, <span style=\"color: #00d7ff; text-decoration-color: #00d7ff\">None</span>, <span style=\"color: #00af00; text-decoration-color: #00af00\">103</span>)      │       <span style=\"color: #00af00; text-decoration-color: #00af00\">105,575</span> │\n",
       "└─────────────────────────────────┴────────────────────────┴───────────────┘\n",
       "</pre>\n"
      ],
      "text/plain": [
       "┏━━━━━━━━━━━━━━━━━━━━━━━━━━━━━━━━━┳━━━━━━━━━━━━━━━━━━━━━━━━┳━━━━━━━━━━━━━━━┓\n",
       "┃\u001b[1m \u001b[0m\u001b[1mLayer (type)                   \u001b[0m\u001b[1m \u001b[0m┃\u001b[1m \u001b[0m\u001b[1mOutput Shape          \u001b[0m\u001b[1m \u001b[0m┃\u001b[1m \u001b[0m\u001b[1m      Param #\u001b[0m\u001b[1m \u001b[0m┃\n",
       "┡━━━━━━━━━━━━━━━━━━━━━━━━━━━━━━━━━╇━━━━━━━━━━━━━━━━━━━━━━━━╇━━━━━━━━━━━━━━━┩\n",
       "│ input_tokens (\u001b[38;5;33mInputLayer\u001b[0m)       │ (\u001b[38;5;45mNone\u001b[0m, \u001b[38;5;45mNone\u001b[0m)           │             \u001b[38;5;34m0\u001b[0m │\n",
       "├─────────────────────────────────┼────────────────────────┼───────────────┤\n",
       "│ embedding_3 (\u001b[38;5;33mEmbedding\u001b[0m)         │ (\u001b[38;5;45mNone\u001b[0m, \u001b[38;5;45mNone\u001b[0m, \u001b[38;5;34m256\u001b[0m)      │        \u001b[38;5;34m26,368\u001b[0m │\n",
       "├─────────────────────────────────┼────────────────────────┼───────────────┤\n",
       "│ gru_4 (\u001b[38;5;33mGRU\u001b[0m)                     │ [(\u001b[38;5;45mNone\u001b[0m, \u001b[38;5;45mNone\u001b[0m, \u001b[38;5;34m1024\u001b[0m),   │     \u001b[38;5;34m3,938,304\u001b[0m │\n",
       "│                                 │ (\u001b[38;5;45mNone\u001b[0m, \u001b[38;5;34m1024\u001b[0m)]          │               │\n",
       "├─────────────────────────────────┼────────────────────────┼───────────────┤\n",
       "│ dropout_1 (\u001b[38;5;33mDropout\u001b[0m)             │ (\u001b[38;5;45mNone\u001b[0m, \u001b[38;5;45mNone\u001b[0m, \u001b[38;5;34m1024\u001b[0m)     │             \u001b[38;5;34m0\u001b[0m │\n",
       "├─────────────────────────────────┼────────────────────────┼───────────────┤\n",
       "│ gru_5 (\u001b[38;5;33mGRU\u001b[0m)                     │ [(\u001b[38;5;45mNone\u001b[0m, \u001b[38;5;45mNone\u001b[0m, \u001b[38;5;34m1024\u001b[0m),   │     \u001b[38;5;34m6,297,600\u001b[0m │\n",
       "│                                 │ (\u001b[38;5;45mNone\u001b[0m, \u001b[38;5;34m1024\u001b[0m)]          │               │\n",
       "├─────────────────────────────────┼────────────────────────┼───────────────┤\n",
       "│ dense_3 (\u001b[38;5;33mDense\u001b[0m)                 │ (\u001b[38;5;45mNone\u001b[0m, \u001b[38;5;45mNone\u001b[0m, \u001b[38;5;34m103\u001b[0m)      │       \u001b[38;5;34m105,575\u001b[0m │\n",
       "└─────────────────────────────────┴────────────────────────┴───────────────┘\n"
      ]
     },
     "metadata": {},
     "output_type": "display_data"
    },
    {
     "data": {
      "text/html": [
       "<pre style=\"white-space:pre;overflow-x:auto;line-height:normal;font-family:Menlo,'DejaVu Sans Mono',consolas,'Courier New',monospace\"><span style=\"font-weight: bold\"> Total params: </span><span style=\"color: #00af00; text-decoration-color: #00af00\">10,367,847</span> (39.55 MB)\n",
       "</pre>\n"
      ],
      "text/plain": [
       "\u001b[1m Total params: \u001b[0m\u001b[38;5;34m10,367,847\u001b[0m (39.55 MB)\n"
      ]
     },
     "metadata": {},
     "output_type": "display_data"
    },
    {
     "data": {
      "text/html": [
       "<pre style=\"white-space:pre;overflow-x:auto;line-height:normal;font-family:Menlo,'DejaVu Sans Mono',consolas,'Courier New',monospace\"><span style=\"font-weight: bold\"> Trainable params: </span><span style=\"color: #00af00; text-decoration-color: #00af00\">10,367,847</span> (39.55 MB)\n",
       "</pre>\n"
      ],
      "text/plain": [
       "\u001b[1m Trainable params: \u001b[0m\u001b[38;5;34m10,367,847\u001b[0m (39.55 MB)\n"
      ]
     },
     "metadata": {},
     "output_type": "display_data"
    },
    {
     "data": {
      "text/html": [
       "<pre style=\"white-space:pre;overflow-x:auto;line-height:normal;font-family:Menlo,'DejaVu Sans Mono',consolas,'Courier New',monospace\"><span style=\"font-weight: bold\"> Non-trainable params: </span><span style=\"color: #00af00; text-decoration-color: #00af00\">0</span> (0.00 B)\n",
       "</pre>\n"
      ],
      "text/plain": [
       "\u001b[1m Non-trainable params: \u001b[0m\u001b[38;5;34m0\u001b[0m (0.00 B)\n"
      ]
     },
     "metadata": {},
     "output_type": "display_data"
    }
   ],
   "source": [
    "gru_model_2.summary()"
   ]
  },
  {
   "cell_type": "code",
   "execution_count": 64,
   "id": "191298be",
   "metadata": {},
   "outputs": [
    {
     "data": {
      "text/plain": [
       "array([ 64,  69,  32,  12,  34,  91,  54,  19,  10,  26,  62,  56,  53,\n",
       "         6,  81,  43,  66,   8,  20,  56,  18,  80,  83,  38,   3,  14,\n",
       "        14,  38,  45,  36,  22,  23,  50,  59,  31,  52,  51,  27,  80,\n",
       "        15,  92,  59,  95,  22,  47,   2,  12,  87,  89,  52,  11,   9,\n",
       "        65,   6,  85,   2,   7,  15,  91,  79,  90,  36,  18,  93,  22,\n",
       "        23,  62, 102,  64,  81,  29,  34,  60,   5,  88,  29,  83,  85,\n",
       "        52,  51,  46,  79,  96, 102,  66,  51,  14,  72,  87,  69,  27,\n",
       "        78,  78,  98,  57, 101,  26,  84,  56, 102])"
      ]
     },
     "execution_count": 64,
     "metadata": {},
     "output_type": "execute_result"
    }
   ],
   "source": [
    "sampled_indices_gru_model_2 = tf.random.categorical(example_batch_predictions_gru_model_2[0], num_samples=1)\n",
    "sampled_indices_gru_model_2 = tf.squeeze(sampled_indices_gru_model_2, axis=-1).numpy()\n",
    "sampled_indices_gru_model_2"
   ]
  },
  {
   "cell_type": "code",
   "execution_count": 65,
   "id": "d442dfd2",
   "metadata": {},
   "outputs": [
    {
     "name": "stdout",
     "output_type": "stream",
     "text": [
      "Input:\n",
      " b'at one out  pain in the **** them spammers\\nhe wasn`t there today   my free day from when the bell ra'\n",
      "\n",
      "Next Char Predictions:\n",
      " b\"^c>*@yT1(8\\\\VS$oI`&2V0nqD ,,DKB45PY=RQ9n-zY}4M\\n*uwR)'_$s\\n%-ymxB0{45\\\\\\xc3\\xaf^o;@Z#v;qsRQLm~\\xc3\\xaf`Q,fuc9ll\\xc2\\xb4W\\xc3\\x828rV\\xc3\\xaf\"\n"
     ]
    }
   ],
   "source": [
    "print(\"Input:\\n\", text_from_ids(input_example_batch[0]).numpy())\n",
    "print()\n",
    "print(\"Next Char Predictions:\\n\", text_from_ids(sampled_indices_gru_model_2).numpy())"
   ]
  },
  {
   "cell_type": "markdown",
   "id": "53f231a1",
   "metadata": {},
   "source": [
    "### Training"
   ]
  },
  {
   "cell_type": "markdown",
   "id": "3e9b7361",
   "metadata": {},
   "source": [
    "#### Loss"
   ]
  },
  {
   "cell_type": "code",
   "execution_count": 66,
   "id": "d2c46b43",
   "metadata": {},
   "outputs": [],
   "source": [
    "loss = tf.losses.SparseCategoricalCrossentropy(from_logits=True)"
   ]
  },
  {
   "cell_type": "code",
   "execution_count": 67,
   "id": "690a750c",
   "metadata": {},
   "outputs": [
    {
     "name": "stdout",
     "output_type": "stream",
     "text": [
      "Prediction shape:  (150, 100, 103)  # (batch_size, sequence_length, vocab_size)\n",
      "Mean loss:         tf.Tensor(4.6348906, shape=(), dtype=float32)\n"
     ]
    }
   ],
   "source": [
    "example_batch_mean_loss_model_2 = loss(target_example_batch, example_batch_predictions_gru_model_2)\n",
    "print(\"Prediction shape: \", example_batch_predictions_gru_model_2.shape, \" # (batch_size, sequence_length, vocab_size)\")\n",
    "print(\"Mean loss:        \", example_batch_mean_loss_model_2)"
   ]
  },
  {
   "cell_type": "code",
   "execution_count": 68,
   "id": "cae0f69c",
   "metadata": {},
   "outputs": [
    {
     "data": {
      "text/plain": [
       "np.float32(102.931305)"
      ]
     },
     "execution_count": 68,
     "metadata": {},
     "output_type": "execute_result"
    }
   ],
   "source": [
    "tf.exp(example_batch_mean_loss_model_1).numpy()"
   ]
  },
  {
   "cell_type": "markdown",
   "id": "accae874",
   "metadata": {},
   "source": [
    "#### Optimizer"
   ]
  },
  {
   "cell_type": "code",
   "execution_count": 69,
   "id": "63c65364",
   "metadata": {},
   "outputs": [],
   "source": [
    "gru_model_2.compile(optimizer='adam', loss=loss, metrics=['accuracy'], run_eagerly=True)"
   ]
  },
  {
   "cell_type": "markdown",
   "id": "fe32b309",
   "metadata": {},
   "source": [
    "#### Early Stopping"
   ]
  },
  {
   "cell_type": "code",
   "execution_count": 70,
   "id": "6c43a8ba",
   "metadata": {},
   "outputs": [],
   "source": [
    "early_stopping_model_2 = keras.callbacks.EarlyStopping(monitor=\"loss\", min_delta=0.002, patience=2)"
   ]
  },
  {
   "cell_type": "markdown",
   "id": "61f91795",
   "metadata": {},
   "source": [
    "#### Konfiguration von Checkpoints"
   ]
  },
  {
   "cell_type": "code",
   "execution_count": 71,
   "id": "5d2432ae",
   "metadata": {},
   "outputs": [],
   "source": [
    "checkpoint_dir = './work/training_checkpoints/gru_model_2'\n",
    "checkpoint_prefix = os.path.join(checkpoint_dir, \"ckpt_{epoch}.weights.h5\")\n",
    "\n",
    "checkpoint_callback_gru_model_2=tf.keras.callbacks.ModelCheckpoint(\n",
    "    filepath=checkpoint_prefix,\n",
    "    save_weights_only=True)"
   ]
  },
  {
   "cell_type": "markdown",
   "id": "065e4fd0",
   "metadata": {},
   "source": [
    "#### Ausführen des Trainings"
   ]
  },
  {
   "cell_type": "code",
   "execution_count": 72,
   "id": "a1073865",
   "metadata": {},
   "outputs": [],
   "source": [
    "EPOCHS = 30"
   ]
  },
  {
   "cell_type": "code",
   "execution_count": 73,
   "id": "583a0fe4",
   "metadata": {},
   "outputs": [
    {
     "name": "stdout",
     "output_type": "stream",
     "text": [
      "Epoch 1/30\n",
      "\u001b[1m125/125\u001b[0m \u001b[32m━━━━━━━━━━━━━━━━━━━━\u001b[0m\u001b[37m\u001b[0m \u001b[1m15s\u001b[0m 121ms/step - accuracy: 0.1894 - loss: 3.5401\n",
      "Epoch 2/30\n",
      "\u001b[1m125/125\u001b[0m \u001b[32m━━━━━━━━━━━━━━━━━━━━\u001b[0m\u001b[37m\u001b[0m \u001b[1m15s\u001b[0m 120ms/step - accuracy: 0.3892 - loss: 2.2079\n",
      "Epoch 3/30\n",
      "\u001b[1m125/125\u001b[0m \u001b[32m━━━━━━━━━━━━━━━━━━━━\u001b[0m\u001b[37m\u001b[0m \u001b[1m15s\u001b[0m 120ms/step - accuracy: 0.4784 - loss: 1.8600\n",
      "Epoch 4/30\n",
      "\u001b[1m125/125\u001b[0m \u001b[32m━━━━━━━━━━━━━━━━━━━━\u001b[0m\u001b[37m\u001b[0m \u001b[1m15s\u001b[0m 121ms/step - accuracy: 0.5157 - loss: 1.7085\n",
      "Epoch 5/30\n",
      "\u001b[1m125/125\u001b[0m \u001b[32m━━━━━━━━━━━━━━━━━━━━\u001b[0m\u001b[37m\u001b[0m \u001b[1m15s\u001b[0m 121ms/step - accuracy: 0.5368 - loss: 1.6230\n",
      "Epoch 6/30\n",
      "\u001b[1m125/125\u001b[0m \u001b[32m━━━━━━━━━━━━━━━━━━━━\u001b[0m\u001b[37m\u001b[0m \u001b[1m15s\u001b[0m 120ms/step - accuracy: 0.5513 - loss: 1.5640\n",
      "Epoch 7/30\n",
      "\u001b[1m125/125\u001b[0m \u001b[32m━━━━━━━━━━━━━━━━━━━━\u001b[0m\u001b[37m\u001b[0m \u001b[1m15s\u001b[0m 119ms/step - accuracy: 0.5631 - loss: 1.5161\n",
      "Epoch 8/30\n",
      "\u001b[1m125/125\u001b[0m \u001b[32m━━━━━━━━━━━━━━━━━━━━\u001b[0m\u001b[37m\u001b[0m \u001b[1m15s\u001b[0m 120ms/step - accuracy: 0.5725 - loss: 1.4750\n",
      "Epoch 9/30\n",
      "\u001b[1m125/125\u001b[0m \u001b[32m━━━━━━━━━━━━━━━━━━━━\u001b[0m\u001b[37m\u001b[0m \u001b[1m15s\u001b[0m 118ms/step - accuracy: 0.5820 - loss: 1.4367\n",
      "Epoch 10/30\n",
      "\u001b[1m125/125\u001b[0m \u001b[32m━━━━━━━━━━━━━━━━━━━━\u001b[0m\u001b[37m\u001b[0m \u001b[1m15s\u001b[0m 119ms/step - accuracy: 0.5910 - loss: 1.3990\n",
      "Epoch 11/30\n",
      "\u001b[1m125/125\u001b[0m \u001b[32m━━━━━━━━━━━━━━━━━━━━\u001b[0m\u001b[37m\u001b[0m \u001b[1m15s\u001b[0m 119ms/step - accuracy: 0.5994 - loss: 1.3642\n",
      "Epoch 12/30\n",
      "\u001b[1m125/125\u001b[0m \u001b[32m━━━━━━━━━━━━━━━━━━━━\u001b[0m\u001b[37m\u001b[0m \u001b[1m15s\u001b[0m 119ms/step - accuracy: 0.6084 - loss: 1.3286\n",
      "Epoch 13/30\n",
      "\u001b[1m125/125\u001b[0m \u001b[32m━━━━━━━━━━━━━━━━━━━━\u001b[0m\u001b[37m\u001b[0m \u001b[1m15s\u001b[0m 119ms/step - accuracy: 0.6174 - loss: 1.2929\n",
      "Epoch 14/30\n",
      "\u001b[1m125/125\u001b[0m \u001b[32m━━━━━━━━━━━━━━━━━━━━\u001b[0m\u001b[37m\u001b[0m \u001b[1m15s\u001b[0m 120ms/step - accuracy: 0.6267 - loss: 1.2579\n",
      "Epoch 15/30\n",
      "\u001b[1m125/125\u001b[0m \u001b[32m━━━━━━━━━━━━━━━━━━━━\u001b[0m\u001b[37m\u001b[0m \u001b[1m15s\u001b[0m 120ms/step - accuracy: 0.6360 - loss: 1.2223\n",
      "Epoch 16/30\n",
      "\u001b[1m125/125\u001b[0m \u001b[32m━━━━━━━━━━━━━━━━━━━━\u001b[0m\u001b[37m\u001b[0m \u001b[1m15s\u001b[0m 120ms/step - accuracy: 0.6453 - loss: 1.1860\n",
      "Epoch 17/30\n",
      "\u001b[1m125/125\u001b[0m \u001b[32m━━━━━━━━━━━━━━━━━━━━\u001b[0m\u001b[37m\u001b[0m \u001b[1m15s\u001b[0m 119ms/step - accuracy: 0.6546 - loss: 1.1512\n",
      "Epoch 18/30\n",
      "\u001b[1m125/125\u001b[0m \u001b[32m━━━━━━━━━━━━━━━━━━━━\u001b[0m\u001b[37m\u001b[0m \u001b[1m15s\u001b[0m 122ms/step - accuracy: 0.6624 - loss: 1.1204\n",
      "Epoch 19/30\n",
      "\u001b[1m125/125\u001b[0m \u001b[32m━━━━━━━━━━━━━━━━━━━━\u001b[0m\u001b[37m\u001b[0m \u001b[1m15s\u001b[0m 122ms/step - accuracy: 0.6710 - loss: 1.0899\n",
      "Epoch 20/30\n",
      "\u001b[1m125/125\u001b[0m \u001b[32m━━━━━━━━━━━━━━━━━━━━\u001b[0m\u001b[37m\u001b[0m \u001b[1m15s\u001b[0m 120ms/step - accuracy: 0.6778 - loss: 1.0611\n",
      "Epoch 21/30\n",
      "\u001b[1m125/125\u001b[0m \u001b[32m━━━━━━━━━━━━━━━━━━━━\u001b[0m\u001b[37m\u001b[0m \u001b[1m15s\u001b[0m 119ms/step - accuracy: 0.6846 - loss: 1.0364\n",
      "Epoch 22/30\n",
      "\u001b[1m125/125\u001b[0m \u001b[32m━━━━━━━━━━━━━━━━━━━━\u001b[0m\u001b[37m\u001b[0m \u001b[1m15s\u001b[0m 121ms/step - accuracy: 0.6902 - loss: 1.0141\n",
      "Epoch 23/30\n",
      "\u001b[1m125/125\u001b[0m \u001b[32m━━━━━━━━━━━━━━━━━━━━\u001b[0m\u001b[37m\u001b[0m \u001b[1m15s\u001b[0m 119ms/step - accuracy: 0.6959 - loss: 0.9929\n",
      "Epoch 24/30\n",
      "\u001b[1m125/125\u001b[0m \u001b[32m━━━━━━━━━━━━━━━━━━━━\u001b[0m\u001b[37m\u001b[0m \u001b[1m15s\u001b[0m 120ms/step - accuracy: 0.7011 - loss: 0.9735\n",
      "Epoch 25/30\n",
      "\u001b[1m125/125\u001b[0m \u001b[32m━━━━━━━━━━━━━━━━━━━━\u001b[0m\u001b[37m\u001b[0m \u001b[1m15s\u001b[0m 119ms/step - accuracy: 0.7037 - loss: 0.9597\n",
      "Epoch 26/30\n",
      "\u001b[1m125/125\u001b[0m \u001b[32m━━━━━━━━━━━━━━━━━━━━\u001b[0m\u001b[37m\u001b[0m \u001b[1m15s\u001b[0m 122ms/step - accuracy: 0.7081 - loss: 0.9441\n",
      "Epoch 27/30\n",
      "\u001b[1m125/125\u001b[0m \u001b[32m━━━━━━━━━━━━━━━━━━━━\u001b[0m\u001b[37m\u001b[0m \u001b[1m15s\u001b[0m 119ms/step - accuracy: 0.7111 - loss: 0.9304\n",
      "Epoch 28/30\n",
      "\u001b[1m125/125\u001b[0m \u001b[32m━━━━━━━━━━━━━━━━━━━━\u001b[0m\u001b[37m\u001b[0m \u001b[1m15s\u001b[0m 120ms/step - accuracy: 0.7149 - loss: 0.9181\n",
      "Epoch 29/30\n",
      "\u001b[1m125/125\u001b[0m \u001b[32m━━━━━━━━━━━━━━━━━━━━\u001b[0m\u001b[37m\u001b[0m \u001b[1m15s\u001b[0m 120ms/step - accuracy: 0.7166 - loss: 0.9079\n",
      "Epoch 30/30\n",
      "\u001b[1m125/125\u001b[0m \u001b[32m━━━━━━━━━━━━━━━━━━━━\u001b[0m\u001b[37m\u001b[0m \u001b[1m15s\u001b[0m 117ms/step - accuracy: 0.7192 - loss: 0.8970\n"
     ]
    }
   ],
   "source": [
    "start = time.perf_counter()\n",
    "gru_model_2_history = gru_model_2.fit(dataset, epochs=EPOCHS, callbacks=[checkpoint_callback_gru_model_2, early_stopping_model_2])\n",
    "end = time.perf_counter()\n",
    "gru_model_2_training_time = end - start"
   ]
  },
  {
   "cell_type": "markdown",
   "id": "a003ce74",
   "metadata": {},
   "source": [
    "### Speichern"
   ]
  },
  {
   "cell_type": "code",
   "execution_count": 74,
   "id": "e7cd036f",
   "metadata": {},
   "outputs": [],
   "source": [
    "gru_model_2.save('work/models/gru_model_2.keras')"
   ]
  },
  {
   "cell_type": "markdown",
   "id": "515a13c3",
   "metadata": {},
   "source": [
    "## Bewertung und Vergleich der GRU-Modelle"
   ]
  },
  {
   "cell_type": "code",
   "execution_count": 75,
   "id": "563b137e",
   "metadata": {},
   "outputs": [
    {
     "data": {
      "image/png": "[encoded data removed]",
      "text/plain": [
       "<Figure size 1200x400 with 3 Axes>"
      ]
     },
     "metadata": {},
     "output_type": "display_data"
    },
    {
     "name": "stdout",
     "output_type": "stream",
     "text": [
      "Loss:\n",
      " GRU Model 1: 0.29578548669815063\n",
      " GRU Model 2: 0.8950479030609131\n",
      "Accuracy:\n",
      " GRU Model 1: 0.9061941504478455\n",
      " GRU Model 2: 0.7201036214828491\n",
      "Perplexity:\n",
      " GRU Model 1: 1.3441817810308012\n",
      " GRU Model 2: 2.447453027145708\n",
      "Training Times:\n",
      " GRU Model 1: 857.122924s\n",
      " GRU Model 2: 451.226709s\n"
     ]
    }
   ],
   "source": [
    "loss1 = gru_model_1_history.history['loss']\n",
    "loss2 = gru_model_2_history.history['loss']\n",
    "\n",
    "accuracy1 = gru_model_1_history.history['accuracy']\n",
    "accuracy2 = gru_model_2_history.history['accuracy']\n",
    "\n",
    "perplexity1 = np.exp(loss1)\n",
    "perplexity2 = np.exp(loss2)\n",
    "\n",
    "fig, axes = plt.subplots(nrows=1, ncols=3, figsize=(12, 4)) \n",
    "\n",
    "axes[0].plot(loss1, label=\"GRU Model 1\", linestyle='-', color='blue')\n",
    "axes[0].plot(loss2, label=\"GRU Model 2\", linestyle='-', color='red')\n",
    "axes[0].set_xlabel(\"Epochs\")\n",
    "axes[0].set_ylabel(\"Loss\")\n",
    "axes[0].set_title(\"Comparison of Training Histories\")\n",
    "axes[0].legend()\n",
    "\n",
    "axes[1].plot(accuracy1, label=\"GRU Model 1\", linestyle='-', color='blue')\n",
    "axes[1].plot(accuracy2, label=\"GRU Model 2\", linestyle='-', color='red')\n",
    "axes[1].set_xlabel(\"Epochs\")\n",
    "axes[1].set_ylabel(\"Accuracy\")\n",
    "axes[1].set_title(\"Accuracy Comparison\")\n",
    "axes[1].legend()\n",
    "\n",
    "axes[2].plot(perplexity1, label=\"GRU Model 1\", linestyle='-', color='blue')\n",
    "axes[2].plot(perplexity2, label=\"GRU Model 2\", linestyle='-', color='red')\n",
    "axes[2].set_xlabel(\"Epochs\")\n",
    "axes[2].set_ylabel(\"Perplexity\")\n",
    "axes[2].set_title(\"Perplexity Comparison\")\n",
    "axes[2].legend()\n",
    "\n",
    "plt.tight_layout()\n",
    "\n",
    "plt.show()\n",
    "\n",
    "print(\"Loss:\")\n",
    "print(f\" GRU Model 1: {loss1[-1]}\")\n",
    "print(f\" GRU Model 2: {loss2[-1]}\")\n",
    "print(\"Accuracy:\")\n",
    "print(f\" GRU Model 1: {accuracy1[-1]}\")\n",
    "print(f\" GRU Model 2: {accuracy2[-1]}\")\n",
    "print(\"Perplexity:\")\n",
    "print(f\" GRU Model 1: {perplexity1[-1]}\")\n",
    "print(f\" GRU Model 2: {perplexity2[-1]}\")\n",
    "print(\"Training Times:\")\n",
    "print(f\" GRU Model 1: {gru_model_1_training_time:2f}s\")\n",
    "print(f\" GRU Model 2: {gru_model_2_training_time:2f}s\")\n"
   ]
  },
  {
   "cell_type": "markdown",
   "id": "dbc5326d",
   "metadata": {},
   "source": [
    "### LSTM-Modell"
   ]
  },
  {
   "cell_type": "code",
   "execution_count": 76,
   "id": "5628e056",
   "metadata": {},
   "outputs": [],
   "source": [
    "vocab_size_lstm = len(ids_from_chars.get_vocabulary())\n",
    "embedding_dim_lstm = 256\n",
    "rnn_units_lstm = 2048"
   ]
  },
  {
   "cell_type": "code",
   "execution_count": 77,
   "id": "fc7e1cd7",
   "metadata": {},
   "outputs": [],
   "source": [
    "\n",
    "inputs_lstm = keras.layers.Input(shape=(None,), dtype='int32', name='input_tokens')\n",
    "embedding_lstm = keras.layers.Embedding(input_dim=vocab_size_lstm, output_dim=embedding_dim_lstm)(inputs_lstm)\n",
    "lstm, hidden_state_1, cell_state_1 = keras.layers.LSTM(units=rnn_units_lstm, return_sequences=True, return_state=True)(embedding_lstm)\n",
    "lstm, hidden_state_2, cell_state_2 = keras.layers.LSTM(units=rnn_units_lstm, return_sequences=True, return_state=True)(lstm)\n",
    "outputs_lstm = keras.layers.Dense(units=vocab_size, activation='softmax')(lstm)\n",
    "\n",
    "lstm_model = keras.Model(inputs=inputs_lstm, outputs=outputs_lstm)"
   ]
  },
  {
   "cell_type": "markdown",
   "id": "c4631e9b",
   "metadata": {},
   "source": [
    "#### Testen des Modells"
   ]
  },
  {
   "cell_type": "code",
   "execution_count": 78,
   "id": "43caf498",
   "metadata": {},
   "outputs": [
    {
     "name": "stdout",
     "output_type": "stream",
     "text": [
      "(150, 100, 103) # (batch_size, sequence_length, vocab_size)\n"
     ]
    }
   ],
   "source": [
    "for input_example_batch, target_example_batch in dataset.take(1):\n",
    "    example_batch_predictions_lstm_model = lstm_model(input_example_batch)\n",
    "    print(example_batch_predictions_lstm_model.shape, \"# (batch_size, sequence_length, vocab_size)\")"
   ]
  },
  {
   "cell_type": "code",
   "execution_count": 79,
   "id": "52d89caa",
   "metadata": {},
   "outputs": [
    {
     "data": {
      "text/html": [
       "<pre style=\"white-space:pre;overflow-x:auto;line-height:normal;font-family:Menlo,'DejaVu Sans Mono',consolas,'Courier New',monospace\"><span style=\"font-weight: bold\">Model: \"functional_4\"</span>\n",
       "</pre>\n"
      ],
      "text/plain": [
       "\u001b[1mModel: \"functional_4\"\u001b[0m\n"
      ]
     },
     "metadata": {},
     "output_type": "display_data"
    },
    {
     "data": {
      "text/html": [
       "<pre style=\"white-space:pre;overflow-x:auto;line-height:normal;font-family:Menlo,'DejaVu Sans Mono',consolas,'Courier New',monospace\">┏━━━━━━━━━━━━━━━━━━━━━━━━━━━━━━━━━┳━━━━━━━━━━━━━━━━━━━━━━━━┳━━━━━━━━━━━━━━━┓\n",
       "┃<span style=\"font-weight: bold\"> Layer (type)                    </span>┃<span style=\"font-weight: bold\"> Output Shape           </span>┃<span style=\"font-weight: bold\">       Param # </span>┃\n",
       "┡━━━━━━━━━━━━━━━━━━━━━━━━━━━━━━━━━╇━━━━━━━━━━━━━━━━━━━━━━━━╇━━━━━━━━━━━━━━━┩\n",
       "│ input_tokens (<span style=\"color: #0087ff; text-decoration-color: #0087ff\">InputLayer</span>)       │ (<span style=\"color: #00d7ff; text-decoration-color: #00d7ff\">None</span>, <span style=\"color: #00d7ff; text-decoration-color: #00d7ff\">None</span>)           │             <span style=\"color: #00af00; text-decoration-color: #00af00\">0</span> │\n",
       "├─────────────────────────────────┼────────────────────────┼───────────────┤\n",
       "│ embedding_4 (<span style=\"color: #0087ff; text-decoration-color: #0087ff\">Embedding</span>)         │ (<span style=\"color: #00d7ff; text-decoration-color: #00d7ff\">None</span>, <span style=\"color: #00d7ff; text-decoration-color: #00d7ff\">None</span>, <span style=\"color: #00af00; text-decoration-color: #00af00\">256</span>)      │        <span style=\"color: #00af00; text-decoration-color: #00af00\">26,368</span> │\n",
       "├─────────────────────────────────┼────────────────────────┼───────────────┤\n",
       "│ lstm_2 (<span style=\"color: #0087ff; text-decoration-color: #0087ff\">LSTM</span>)                   │ [(<span style=\"color: #00d7ff; text-decoration-color: #00d7ff\">None</span>, <span style=\"color: #00d7ff; text-decoration-color: #00d7ff\">None</span>, <span style=\"color: #00af00; text-decoration-color: #00af00\">2048</span>),   │    <span style=\"color: #00af00; text-decoration-color: #00af00\">18,882,560</span> │\n",
       "│                                 │ (<span style=\"color: #00d7ff; text-decoration-color: #00d7ff\">None</span>, <span style=\"color: #00af00; text-decoration-color: #00af00\">2048</span>), (<span style=\"color: #00d7ff; text-decoration-color: #00d7ff\">None</span>,   │               │\n",
       "│                                 │ <span style=\"color: #00af00; text-decoration-color: #00af00\">2048</span>)]                 │               │\n",
       "├─────────────────────────────────┼────────────────────────┼───────────────┤\n",
       "│ lstm_3 (<span style=\"color: #0087ff; text-decoration-color: #0087ff\">LSTM</span>)                   │ [(<span style=\"color: #00d7ff; text-decoration-color: #00d7ff\">None</span>, <span style=\"color: #00d7ff; text-decoration-color: #00d7ff\">None</span>, <span style=\"color: #00af00; text-decoration-color: #00af00\">2048</span>),   │    <span style=\"color: #00af00; text-decoration-color: #00af00\">33,562,624</span> │\n",
       "│                                 │ (<span style=\"color: #00d7ff; text-decoration-color: #00d7ff\">None</span>, <span style=\"color: #00af00; text-decoration-color: #00af00\">2048</span>), (<span style=\"color: #00d7ff; text-decoration-color: #00d7ff\">None</span>,   │               │\n",
       "│                                 │ <span style=\"color: #00af00; text-decoration-color: #00af00\">2048</span>)]                 │               │\n",
       "├─────────────────────────────────┼────────────────────────┼───────────────┤\n",
       "│ dense_4 (<span style=\"color: #0087ff; text-decoration-color: #0087ff\">Dense</span>)                 │ (<span style=\"color: #00d7ff; text-decoration-color: #00d7ff\">None</span>, <span style=\"color: #00d7ff; text-decoration-color: #00d7ff\">None</span>, <span style=\"color: #00af00; text-decoration-color: #00af00\">103</span>)      │       <span style=\"color: #00af00; text-decoration-color: #00af00\">211,047</span> │\n",
       "└─────────────────────────────────┴────────────────────────┴───────────────┘\n",
       "</pre>\n"
      ],
      "text/plain": [
       "┏━━━━━━━━━━━━━━━━━━━━━━━━━━━━━━━━━┳━━━━━━━━━━━━━━━━━━━━━━━━┳━━━━━━━━━━━━━━━┓\n",
       "┃\u001b[1m \u001b[0m\u001b[1mLayer (type)                   \u001b[0m\u001b[1m \u001b[0m┃\u001b[1m \u001b[0m\u001b[1mOutput Shape          \u001b[0m\u001b[1m \u001b[0m┃\u001b[1m \u001b[0m\u001b[1m      Param #\u001b[0m\u001b[1m \u001b[0m┃\n",
       "┡━━━━━━━━━━━━━━━━━━━━━━━━━━━━━━━━━╇━━━━━━━━━━━━━━━━━━━━━━━━╇━━━━━━━━━━━━━━━┩\n",
       "│ input_tokens (\u001b[38;5;33mInputLayer\u001b[0m)       │ (\u001b[38;5;45mNone\u001b[0m, \u001b[38;5;45mNone\u001b[0m)           │             \u001b[38;5;34m0\u001b[0m │\n",
       "├─────────────────────────────────┼────────────────────────┼───────────────┤\n",
       "│ embedding_4 (\u001b[38;5;33mEmbedding\u001b[0m)         │ (\u001b[38;5;45mNone\u001b[0m, \u001b[38;5;45mNone\u001b[0m, \u001b[38;5;34m256\u001b[0m)      │        \u001b[38;5;34m26,368\u001b[0m │\n",
       "├─────────────────────────────────┼────────────────────────┼───────────────┤\n",
       "│ lstm_2 (\u001b[38;5;33mLSTM\u001b[0m)                   │ [(\u001b[38;5;45mNone\u001b[0m, \u001b[38;5;45mNone\u001b[0m, \u001b[38;5;34m2048\u001b[0m),   │    \u001b[38;5;34m18,882,560\u001b[0m │\n",
       "│                                 │ (\u001b[38;5;45mNone\u001b[0m, \u001b[38;5;34m2048\u001b[0m), (\u001b[38;5;45mNone\u001b[0m,   │               │\n",
       "│                                 │ \u001b[38;5;34m2048\u001b[0m)]                 │               │\n",
       "├─────────────────────────────────┼────────────────────────┼───────────────┤\n",
       "│ lstm_3 (\u001b[38;5;33mLSTM\u001b[0m)                   │ [(\u001b[38;5;45mNone\u001b[0m, \u001b[38;5;45mNone\u001b[0m, \u001b[38;5;34m2048\u001b[0m),   │    \u001b[38;5;34m33,562,624\u001b[0m │\n",
       "│                                 │ (\u001b[38;5;45mNone\u001b[0m, \u001b[38;5;34m2048\u001b[0m), (\u001b[38;5;45mNone\u001b[0m,   │               │\n",
       "│                                 │ \u001b[38;5;34m2048\u001b[0m)]                 │               │\n",
       "├─────────────────────────────────┼────────────────────────┼───────────────┤\n",
       "│ dense_4 (\u001b[38;5;33mDense\u001b[0m)                 │ (\u001b[38;5;45mNone\u001b[0m, \u001b[38;5;45mNone\u001b[0m, \u001b[38;5;34m103\u001b[0m)      │       \u001b[38;5;34m211,047\u001b[0m │\n",
       "└─────────────────────────────────┴────────────────────────┴───────────────┘\n"
      ]
     },
     "metadata": {},
     "output_type": "display_data"
    },
    {
     "data": {
      "text/html": [
       "<pre style=\"white-space:pre;overflow-x:auto;line-height:normal;font-family:Menlo,'DejaVu Sans Mono',consolas,'Courier New',monospace\"><span style=\"font-weight: bold\"> Total params: </span><span style=\"color: #00af00; text-decoration-color: #00af00\">52,682,599</span> (200.97 MB)\n",
       "</pre>\n"
      ],
      "text/plain": [
       "\u001b[1m Total params: \u001b[0m\u001b[38;5;34m52,682,599\u001b[0m (200.97 MB)\n"
      ]
     },
     "metadata": {},
     "output_type": "display_data"
    },
    {
     "data": {
      "text/html": [
       "<pre style=\"white-space:pre;overflow-x:auto;line-height:normal;font-family:Menlo,'DejaVu Sans Mono',consolas,'Courier New',monospace\"><span style=\"font-weight: bold\"> Trainable params: </span><span style=\"color: #00af00; text-decoration-color: #00af00\">52,682,599</span> (200.97 MB)\n",
       "</pre>\n"
      ],
      "text/plain": [
       "\u001b[1m Trainable params: \u001b[0m\u001b[38;5;34m52,682,599\u001b[0m (200.97 MB)\n"
      ]
     },
     "metadata": {},
     "output_type": "display_data"
    },
    {
     "data": {
      "text/html": [
       "<pre style=\"white-space:pre;overflow-x:auto;line-height:normal;font-family:Menlo,'DejaVu Sans Mono',consolas,'Courier New',monospace\"><span style=\"font-weight: bold\"> Non-trainable params: </span><span style=\"color: #00af00; text-decoration-color: #00af00\">0</span> (0.00 B)\n",
       "</pre>\n"
      ],
      "text/plain": [
       "\u001b[1m Non-trainable params: \u001b[0m\u001b[38;5;34m0\u001b[0m (0.00 B)\n"
      ]
     },
     "metadata": {},
     "output_type": "display_data"
    }
   ],
   "source": [
    "lstm_model.summary()"
   ]
  },
  {
   "cell_type": "code",
   "execution_count": 80,
   "id": "c6550e85",
   "metadata": {},
   "outputs": [
    {
     "data": {
      "text/plain": [
       "array([ 87,  37,  91,  89,  74,  34,  92,  46,   8,  78,  19,  72,  32,\n",
       "        13,  72,  62,  89,  88,  43,   5,  64,  94,  47,   6,  37,  98,\n",
       "        73,  47,  64,  21,  30,  85,  86,  29,  93,  14,  32,  97,  14,\n",
       "        43,  49,   0,  94,  58,  81,  87,  42,  44,  37,  54,   3,  98,\n",
       "        84,  53,  90,  95,   3,  44,  26,  21,  84,  48,  85,  33,  25,\n",
       "        78,  39,  40,  88,  45,  62,  83,  81,   1,  56,  85, 102,  87,\n",
       "        34,  84,   7,  99,  88,  92,  64,  65,  58,  44,   6,  93,  54,\n",
       "        86,  21,  95,  28,  28,  84,  45,  50,  49])"
      ]
     },
     "execution_count": 80,
     "metadata": {},
     "output_type": "execute_result"
    }
   ],
   "source": [
    "sampled_indices_lstm_model = tf.random.categorical(example_batch_predictions_lstm_model[0], num_samples=1)\n",
    "sampled_indices_lstm_model = tf.squeeze(sampled_indices_lstm_model, axis=-1).numpy()\n",
    "sampled_indices_lstm_model"
   ]
  },
  {
   "cell_type": "code",
   "execution_count": 81,
   "id": "18db8e4d",
   "metadata": {},
   "outputs": [
    {
     "name": "stdout",
     "output_type": "stream",
     "text": [
      "Input:\n",
      " b'odayyy  I don`t feel confident about anyy.\\ngraduation is done  im a little sad.. anyone want to hang'\n",
      "\n",
      "Next Char Predictions:\n",
      " b\"^c>*@yT1(8\\\\VS$oI`&2V0nqD ,,DKB45PY=RQ9n-zY}4M\\n*uwR)'_$s\\n%-ymxB0{45\\\\\\xc3\\xaf^o;@Z#v;qsRQLm~\\xc3\\xaf`Q,fuc9ll\\xc2\\xb4W\\xc3\\x828rV\\xc3\\xaf\"\n"
     ]
    }
   ],
   "source": [
    "print(\"Input:\\n\", text_from_ids(input_example_batch[0]).numpy())\n",
    "print()\n",
    "print(\"Next Char Predictions:\\n\", text_from_ids(sampled_indices_gru_model_2).numpy())"
   ]
  },
  {
   "cell_type": "markdown",
   "id": "85b71bee",
   "metadata": {},
   "source": [
    "### Training"
   ]
  },
  {
   "cell_type": "markdown",
   "id": "7744bee1",
   "metadata": {},
   "source": [
    "#### Loss"
   ]
  },
  {
   "cell_type": "code",
   "execution_count": 82,
   "id": "b01c1b1c",
   "metadata": {},
   "outputs": [],
   "source": [
    "loss = tf.losses.SparseCategoricalCrossentropy(from_logits=True)"
   ]
  },
  {
   "cell_type": "code",
   "execution_count": 83,
   "id": "1ab23fee",
   "metadata": {},
   "outputs": [
    {
     "name": "stdout",
     "output_type": "stream",
     "text": [
      "Prediction shape:  (150, 100, 103)  # (batch_size, sequence_length, vocab_size)\n",
      "Mean loss:         tf.Tensor(4.6345468, shape=(), dtype=float32)\n"
     ]
    }
   ],
   "source": [
    "example_batch_mean_loss_lstm_model = loss(target_example_batch, example_batch_predictions_lstm_model)\n",
    "print(\"Prediction shape: \", example_batch_predictions_lstm_model.shape, \" # (batch_size, sequence_length, vocab_size)\")\n",
    "print(\"Mean loss:        \", example_batch_mean_loss_lstm_model)"
   ]
  },
  {
   "cell_type": "code",
   "execution_count": 84,
   "id": "cfc42d81",
   "metadata": {},
   "outputs": [
    {
     "data": {
      "text/plain": [
       "np.float32(102.98123)"
      ]
     },
     "execution_count": 84,
     "metadata": {},
     "output_type": "execute_result"
    }
   ],
   "source": [
    "tf.exp(example_batch_mean_loss_lstm_model).numpy()"
   ]
  },
  {
   "cell_type": "markdown",
   "id": "e6d64682",
   "metadata": {},
   "source": [
    "#### Optimizer"
   ]
  },
  {
   "cell_type": "code",
   "execution_count": 85,
   "id": "e4a83232",
   "metadata": {},
   "outputs": [],
   "source": [
    "lstm_model.compile(optimizer='adam', loss=loss, metrics=['accuracy'], run_eagerly=True)"
   ]
  },
  {
   "cell_type": "markdown",
   "id": "a522cf92",
   "metadata": {},
   "source": [
    "#### Konfiguration von Checkpoints"
   ]
  },
  {
   "cell_type": "code",
   "execution_count": 86,
   "id": "98e5fe59",
   "metadata": {},
   "outputs": [],
   "source": [
    "checkpoint_dir = './work/training_checkpoints/lstm_model'\n",
    "checkpoint_prefix = os.path.join(checkpoint_dir, \"ckpt_{epoch}.weights.h5\")\n",
    "\n",
    "checkpoint_callback_gru_model_2=tf.keras.callbacks.ModelCheckpoint(\n",
    "    filepath=checkpoint_prefix,\n",
    "    save_weights_only=True)"
   ]
  },
  {
   "cell_type": "markdown",
   "id": "efe46cde",
   "metadata": {},
   "source": [
    "#### Ausführen des Trainings"
   ]
  },
  {
   "cell_type": "code",
   "execution_count": 87,
   "id": "d5f6cffe",
   "metadata": {},
   "outputs": [],
   "source": [
    "EPOCHS = 30"
   ]
  },
  {
   "cell_type": "code",
   "execution_count": 88,
   "id": "d31fbbe0",
   "metadata": {},
   "outputs": [
    {
     "name": "stdout",
     "output_type": "stream",
     "text": [
      "Epoch 1/30\n",
      "\u001b[1m125/125\u001b[0m \u001b[32m━━━━━━━━━━━━━━━━━━━━\u001b[0m\u001b[37m\u001b[0m \u001b[1m37s\u001b[0m 297ms/step - accuracy: 0.1597 - loss: 3.8579\n",
      "Epoch 2/30\n",
      "\u001b[1m125/125\u001b[0m \u001b[32m━━━━━━━━━━━━━━━━━━━━\u001b[0m\u001b[37m\u001b[0m \u001b[1m37s\u001b[0m 296ms/step - accuracy: 0.2797 - loss: 2.6991\n",
      "Epoch 3/30\n",
      "\u001b[1m125/125\u001b[0m \u001b[32m━━━━━━━━━━━━━━━━━━━━\u001b[0m\u001b[37m\u001b[0m \u001b[1m37s\u001b[0m 296ms/step - accuracy: 0.3953 - loss: 2.1929\n",
      "Epoch 4/30\n",
      "\u001b[1m125/125\u001b[0m \u001b[32m━━━━━━━━━━━━━━━━━━━━\u001b[0m\u001b[37m\u001b[0m \u001b[1m37s\u001b[0m 296ms/step - accuracy: 0.4671 - loss: 1.9103\n",
      "Epoch 5/30\n",
      "\u001b[1m125/125\u001b[0m \u001b[32m━━━━━━━━━━━━━━━━━━━━\u001b[0m\u001b[37m\u001b[0m \u001b[1m37s\u001b[0m 299ms/step - accuracy: 0.5031 - loss: 1.7643\n",
      "Epoch 6/30\n",
      "\u001b[1m125/125\u001b[0m \u001b[32m━━━━━━━━━━━━━━━━━━━━\u001b[0m\u001b[37m\u001b[0m \u001b[1m37s\u001b[0m 298ms/step - accuracy: 0.5252 - loss: 1.6754\n",
      "Epoch 7/30\n",
      "\u001b[1m125/125\u001b[0m \u001b[32m━━━━━━━━━━━━━━━━━━━━\u001b[0m\u001b[37m\u001b[0m \u001b[1m37s\u001b[0m 296ms/step - accuracy: 0.5410 - loss: 1.6111\n",
      "Epoch 8/30\n",
      "\u001b[1m125/125\u001b[0m \u001b[32m━━━━━━━━━━━━━━━━━━━━\u001b[0m\u001b[37m\u001b[0m \u001b[1m37s\u001b[0m 296ms/step - accuracy: 0.5532 - loss: 1.5627\n",
      "Epoch 9/30\n",
      "\u001b[1m125/125\u001b[0m \u001b[32m━━━━━━━━━━━━━━━━━━━━\u001b[0m\u001b[37m\u001b[0m \u001b[1m37s\u001b[0m 295ms/step - accuracy: 0.5633 - loss: 1.5199\n",
      "Epoch 10/30\n",
      "\u001b[1m125/125\u001b[0m \u001b[32m━━━━━━━━━━━━━━━━━━━━\u001b[0m\u001b[37m\u001b[0m \u001b[1m37s\u001b[0m 298ms/step - accuracy: 0.5725 - loss: 1.4829\n",
      "Epoch 11/30\n",
      "\u001b[1m125/125\u001b[0m \u001b[32m━━━━━━━━━━━━━━━━━━━━\u001b[0m\u001b[37m\u001b[0m \u001b[1m36s\u001b[0m 286ms/step - accuracy: 0.5818 - loss: 1.4466\n",
      "Epoch 12/30\n",
      "\u001b[1m125/125\u001b[0m \u001b[32m━━━━━━━━━━━━━━━━━━━━\u001b[0m\u001b[37m\u001b[0m \u001b[1m35s\u001b[0m 283ms/step - accuracy: 0.5896 - loss: 1.4133\n",
      "Epoch 13/30\n",
      "\u001b[1m125/125\u001b[0m \u001b[32m━━━━━━━━━━━━━━━━━━━━\u001b[0m\u001b[37m\u001b[0m \u001b[1m35s\u001b[0m 281ms/step - accuracy: 0.5990 - loss: 1.3770\n",
      "Epoch 14/30\n",
      "\u001b[1m125/125\u001b[0m \u001b[32m━━━━━━━━━━━━━━━━━━━━\u001b[0m\u001b[37m\u001b[0m \u001b[1m35s\u001b[0m 281ms/step - accuracy: 0.6082 - loss: 1.3413\n",
      "Epoch 15/30\n",
      "\u001b[1m125/125\u001b[0m \u001b[32m━━━━━━━━━━━━━━━━━━━━\u001b[0m\u001b[37m\u001b[0m \u001b[1m35s\u001b[0m 281ms/step - accuracy: 0.6183 - loss: 1.3038\n",
      "Epoch 16/30\n",
      "\u001b[1m125/125\u001b[0m \u001b[32m━━━━━━━━━━━━━━━━━━━━\u001b[0m\u001b[37m\u001b[0m \u001b[1m35s\u001b[0m 280ms/step - accuracy: 0.6287 - loss: 1.2645\n",
      "Epoch 17/30\n",
      "\u001b[1m125/125\u001b[0m \u001b[32m━━━━━━━━━━━━━━━━━━━━\u001b[0m\u001b[37m\u001b[0m \u001b[1m35s\u001b[0m 281ms/step - accuracy: 0.6396 - loss: 1.2240\n",
      "Epoch 18/30\n",
      "\u001b[1m125/125\u001b[0m \u001b[32m━━━━━━━━━━━━━━━━━━━━\u001b[0m\u001b[37m\u001b[0m \u001b[1m35s\u001b[0m 282ms/step - accuracy: 0.6520 - loss: 1.1775\n",
      "Epoch 19/30\n",
      "\u001b[1m125/125\u001b[0m \u001b[32m━━━━━━━━━━━━━━━━━━━━\u001b[0m\u001b[37m\u001b[0m \u001b[1m35s\u001b[0m 280ms/step - accuracy: 0.6637 - loss: 1.1347\n",
      "Epoch 20/30\n",
      "\u001b[1m125/125\u001b[0m \u001b[32m━━━━━━━━━━━━━━━━━━━━\u001b[0m\u001b[37m\u001b[0m \u001b[1m35s\u001b[0m 281ms/step - accuracy: 0.6790 - loss: 1.0836\n",
      "Epoch 21/30\n",
      "\u001b[1m125/125\u001b[0m \u001b[32m━━━━━━━━━━━━━━━━━━━━\u001b[0m\u001b[37m\u001b[0m \u001b[1m35s\u001b[0m 280ms/step - accuracy: 0.6931 - loss: 1.0326\n",
      "Epoch 22/30\n",
      "\u001b[1m125/125\u001b[0m \u001b[32m━━━━━━━━━━━━━━━━━━━━\u001b[0m\u001b[37m\u001b[0m \u001b[1m35s\u001b[0m 280ms/step - accuracy: 0.7097 - loss: 0.9772\n",
      "Epoch 23/30\n",
      "\u001b[1m125/125\u001b[0m \u001b[32m━━━━━━━━━━━━━━━━━━━━\u001b[0m\u001b[37m\u001b[0m \u001b[1m35s\u001b[0m 280ms/step - accuracy: 0.7269 - loss: 0.9186\n",
      "Epoch 24/30\n",
      "\u001b[1m125/125\u001b[0m \u001b[32m━━━━━━━━━━━━━━━━━━━━\u001b[0m\u001b[37m\u001b[0m \u001b[1m35s\u001b[0m 280ms/step - accuracy: 0.7437 - loss: 0.8630\n",
      "Epoch 25/30\n",
      "\u001b[1m125/125\u001b[0m \u001b[32m━━━━━━━━━━━━━━━━━━━━\u001b[0m\u001b[37m\u001b[0m \u001b[1m35s\u001b[0m 280ms/step - accuracy: 0.7609 - loss: 0.8036\n",
      "Epoch 26/30\n",
      "\u001b[1m125/125\u001b[0m \u001b[32m━━━━━━━━━━━━━━━━━━━━\u001b[0m\u001b[37m\u001b[0m \u001b[1m35s\u001b[0m 282ms/step - accuracy: 0.7787 - loss: 0.7447\n",
      "Epoch 27/30\n",
      "\u001b[1m125/125\u001b[0m \u001b[32m━━━━━━━━━━━━━━━━━━━━\u001b[0m\u001b[37m\u001b[0m \u001b[1m35s\u001b[0m 281ms/step - accuracy: 0.7964 - loss: 0.6866\n",
      "Epoch 28/30\n",
      "\u001b[1m125/125\u001b[0m \u001b[32m━━━━━━━━━━━━━━━━━━━━\u001b[0m\u001b[37m\u001b[0m \u001b[1m35s\u001b[0m 279ms/step - accuracy: 0.8145 - loss: 0.6288\n",
      "Epoch 29/30\n",
      "\u001b[1m125/125\u001b[0m \u001b[32m━━━━━━━━━━━━━━━━━━━━\u001b[0m\u001b[37m\u001b[0m \u001b[1m35s\u001b[0m 282ms/step - accuracy: 0.8301 - loss: 0.5762\n",
      "Epoch 30/30\n",
      "\u001b[1m125/125\u001b[0m \u001b[32m━━━━━━━━━━━━━━━━━━━━\u001b[0m\u001b[37m\u001b[0m \u001b[1m36s\u001b[0m 286ms/step - accuracy: 0.8463 - loss: 0.5237\n"
     ]
    }
   ],
   "source": [
    "start = time.perf_counter()\n",
    "lstm_model_history = lstm_model.fit(dataset, epochs=EPOCHS, callbacks=[checkpoint_callback_gru_model_2, early_stopping_model_2])\n",
    "end = time.perf_counter()\n",
    "lstm_model_training_time = end - start"
   ]
  },
  {
   "cell_type": "markdown",
   "id": "b1ff6b41",
   "metadata": {},
   "source": [
    "#### Speichern"
   ]
  },
  {
   "cell_type": "code",
   "execution_count": 89,
   "id": "9801f494",
   "metadata": {},
   "outputs": [],
   "source": [
    "lstm_model.save('work/models/lstm_model.keras')"
   ]
  },
  {
   "cell_type": "markdown",
   "id": "e27e7878",
   "metadata": {},
   "source": [
    "## Vergleich aller Modelle"
   ]
  },
  {
   "cell_type": "code",
   "execution_count": 91,
   "id": "c8d229ac",
   "metadata": {},
   "outputs": [
    {
     "data": {
      "image/png": "[encoded data removed]",
      "text/plain": [
       "<Figure size 1200x400 with 3 Axes>"
      ]
     },
     "metadata": {},
     "output_type": "display_data"
    },
    {
     "name": "stdout",
     "output_type": "stream",
     "text": [
      "Loss:\n",
      " GRU Model 1: 0.29578548669815063\n",
      " GRU Model 2: 0.8950479030609131\n",
      " LSTM Model:  0.5019716024398804\n",
      "Accuracy:\n",
      " GRU Model 1: 0.9061941504478455\n",
      " GRU Model 2: 0.7201036214828491\n",
      " LSTM Model:  0.8537558317184448\n",
      "Perplexity:\n",
      " GRU Model 1: 1.3441817810308012\n",
      " GRU Model 2: 2.447453027145708\n",
      " LSTM Model:  1.6519751001551413\n",
      "Training Times:\n",
      " GRU Model 1: 857.122924s\n",
      " GRU Model 2: 451.226709s\n",
      " LSTM Model:  1076.347619s\n"
     ]
    }
   ],
   "source": [
    "loss1 = gru_model_1_history.history['loss']\n",
    "loss2 = gru_model_2_history.history['loss']\n",
    "loss3 = lstm_model_history.history['loss']\n",
    "\n",
    "accuracy1 = gru_model_1_history.history['accuracy']\n",
    "accuracy2 = gru_model_2_history.history['accuracy']\n",
    "accuracy3 = lstm_model_history.history['accuracy']\n",
    "\n",
    "perplexity1 = np.exp(loss1)\n",
    "perplexity2 = np.exp(loss2)\n",
    "perplexity3 = np.exp(loss3)\n",
    "\n",
    "fig, axes = plt.subplots(nrows=1, ncols=3, figsize=(12, 4)) \n",
    "\n",
    "axes[0].plot(loss1, label=\"GRU Model 1\", linestyle='-', color='blue')\n",
    "axes[0].plot(loss2, label=\"GRU Model 2\", linestyle='-', color='red')\n",
    "axes[0].plot(loss3, label=\"LSTM Model\", linestyle='-', color='green')\n",
    "axes[0].set_xlabel(\"Epochs\")\n",
    "axes[0].set_ylabel(\"Loss\")\n",
    "axes[0].set_title(\"Comparison of Training Histories\")\n",
    "axes[0].legend()\n",
    "\n",
    "axes[1].plot(accuracy1, label=\"GRU Model 1\", linestyle='-', color='blue')\n",
    "axes[1].plot(accuracy2, label=\"GRU Model 2\", linestyle='-', color='red')\n",
    "axes[1].plot(accuracy3, label=\"LSTM Model\", linestyle='-', color='green')\n",
    "axes[1].set_xlabel(\"Epochs\")\n",
    "axes[1].set_ylabel(\"Accuracy\")\n",
    "axes[1].set_title(\"Accuracy Comparison\")\n",
    "axes[1].legend()\n",
    "\n",
    "axes[2].plot(perplexity1, label=\"GRU Model 1\", linestyle='-', color='blue')\n",
    "axes[2].plot(perplexity2, label=\"GRU Model 2\", linestyle='-', color='red')\n",
    "axes[2].plot(perplexity3, label=\"LSTM Model\", linestyle='-', color='green')\n",
    "axes[2].set_xlabel(\"Epochs\")\n",
    "axes[2].set_ylabel(\"Perplexity\")\n",
    "axes[2].set_title(\"Perplexity Comparison\")\n",
    "axes[2].legend()\n",
    "\n",
    "plt.tight_layout()\n",
    "\n",
    "plt.show()\n",
    "print(\"Loss:\")\n",
    "print(f\" GRU Model 1: {loss1[-1]}\")\n",
    "print(f\" GRU Model 2: {loss2[-1]}\")\n",
    "print(f\" LSTM Model:  {loss3[-1]}\")\n",
    "print(\"Accuracy:\")\n",
    "print(f\" GRU Model 1: {accuracy1[-1]}\")\n",
    "print(f\" GRU Model 2: {accuracy2[-1]}\")\n",
    "print(f\" LSTM Model:  {accuracy3[-1]}\")\n",
    "print(\"Perplexity:\")\n",
    "print(f\" GRU Model 1: {perplexity1[-1]}\")\n",
    "print(f\" GRU Model 2: {perplexity2[-1]}\")\n",
    "print(f\" LSTM Model:  {perplexity3[-1]}\")\n",
    "print(\"Training Times:\")\n",
    "print(f\" GRU Model 1: {gru_model_1_training_time:2f}s\")\n",
    "print(f\" GRU Model 2: {gru_model_2_training_time:2f}s\")\n",
    "print(f\" LSTM Model:  {lstm_model_training_time:2f}s\")"
   ]
  }
 ],
 "metadata": {
  "kernelspec": {
   "display_name": "Python 3 (ipykernel)",
   "language": "python",
   "name": "python3"
  },
  "language_info": {
   "codemirror_mode": {
    "name": "ipython",
    "version": 3
   },
   "file_extension": ".py",
   "mimetype": "text/x-python",
   "name": "python",
   "nbconvert_exporter": "python",
   "pygments_lexer": "ipython3",
   "version": "3.12.10"
  }
 },
 "nbformat": 4,
 "nbformat_minor": 5
}
