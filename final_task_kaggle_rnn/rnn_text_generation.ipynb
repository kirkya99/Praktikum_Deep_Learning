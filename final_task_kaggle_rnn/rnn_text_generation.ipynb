{
 "cells": [
  {
   "cell_type": "markdown",
   "id": "064c5e42",
   "metadata": {},
   "source": [
    "# Finale Aufgabe für Praktikum Deep Learning <br>Textgenerierung mit RNN: Textgenerierung\n",
    "\n",
    "* **Name:** Fabian Schotte\n",
    "* **Email:** fabian.schotte@rwu.de\n",
    "* **Matrikelnummer:** 35604\n",
    "* **Studiengang:** Angewandte Informatik"
   ]
  },
  {
   "cell_type": "markdown",
   "id": "9aa33e2e",
   "metadata": {},
   "source": [
    "Hier werden die Imports für den Textgenerierer durchgeführt. Zu den Imports gehören die Methoden für das Generieren der Texte aus denGRU und LSTM Modellen. \n",
    "Es werden auch die Trainingsdaten importiert, damit die vorhergesagten Zahlenwerte aus der Prediction auf die entsprechenden Charaktere abgebildet werden können."
   ]
  },
  {
   "cell_type": "code",
   "execution_count": 10,
   "id": "d132560e",
   "metadata": {},
   "outputs": [],
   "source": [
    "import pandas as pd\n",
    "from work.text_generation import generate_text_with_gru_model, generate_text_with_lstm_model\n",
    "\n",
    "df_kaggle_train = pd.read_csv('work/kaggle_sentiment/tweet_sentiment_train.csv',\n",
    "                    encoding='utf-8', encoding_errors='replace')\n",
    "kaggle_text = df_kaggle_train['text'].str.cat(sep='\\n')"
   ]
  },
  {
   "cell_type": "markdown",
   "id": "3b5b6487",
   "metadata": {},
   "source": [
    "## 1. GRU-Modell"
   ]
  },
  {
   "cell_type": "markdown",
   "id": "75bc9dfa",
   "metadata": {},
   "source": [
    "Im folgenden wird die Methode für die Generierung des Textes mit einem GRU Modell aufgerufen. Es wird das erste GRU Modell verwendet."
   ]
  },
  {
   "cell_type": "code",
   "execution_count": 11,
   "id": "cfc975d4",
   "metadata": {},
   "outputs": [
    {
     "name": "stdout",
     "output_type": "stream",
     "text": [
      "Hey, \n",
      "great camera - WiLl be with the place As the start of the day... I guess I not having a good sleep.\n",
      "sigh, great rither!\n",
      " cool. I really don`t feel the lossie and spammered me.\n",
      "@_sites Holla, took crazis stuff that  right now.\n",
      " ah. & when I went to buy a pain in love...hope she can get better for my tix and yesterday.  It`s so not down yet. Sounds like such a happy and small this is your raining  good luck du\n",
      "_b I don`t know!  She never really sad news for lunch - I bet it`s still ALso, yeah lol its on a who\n"
     ]
    }
   ],
   "source": [
    "generate_text_with_gru_model('work/models/gru_model_1.keras', kaggle_text)"
   ]
  },
  {
   "cell_type": "markdown",
   "id": "8b45c207",
   "metadata": {},
   "source": [
    "## 2. GRU-Modell"
   ]
  },
  {
   "cell_type": "markdown",
   "id": "638bcfd1",
   "metadata": {},
   "source": [
    "Hier wird das zweite GRU Modell für die Textgenerierung verwendet."
   ]
  },
  {
   "cell_type": "code",
   "execution_count": 12,
   "id": "515c2367",
   "metadata": {},
   "outputs": [
    {
     "name": "stdout",
     "output_type": "stream",
     "text": [
      "Hey, \n",
      "haha\n",
      "had one in one picture and nobody`s completely fly items, had to do it again.\n",
      "Oh my followers and just been going talking on this year  I pain feeling a million feature pictures of Apple.\n",
      " Though, pretty awesome.\n",
      " Have a fry year - well, on tomorrow!\n",
      "to strp going the clouds...\n",
      "Someone in my hypes restour - and again ; Got tears to resching by not so many girl to come out today!!!\n",
      " I wish I coulder going out of bookmmg.\n",
      "_instead of just a little sad for you. They are the effort.   lol I SPit Couldn`t h\n"
     ]
    }
   ],
   "source": [
    "generate_text_with_gru_model('work/models/gru_model_2.keras', kaggle_text)"
   ]
  },
  {
   "cell_type": "markdown",
   "id": "30a4f2e3",
   "metadata": {},
   "source": [
    "## LSTM-Modell"
   ]
  },
  {
   "cell_type": "markdown",
   "id": "052c56df",
   "metadata": {},
   "source": [
    "Hier wird die Methode für die Textgenerierung mit einem LSTM Model aufgerufen. Das verwedete Modell ist das erste GRU Modell mit LSTM Layers."
   ]
  },
  {
   "cell_type": "code",
   "execution_count": 13,
   "id": "e92f9f8a",
   "metadata": {},
   "outputs": [
    {
     "name": "stdout",
     "output_type": "stream",
     "text": [
      "Seed: Hey, this is my LSTM: \n",
      "Generated continuation:\n",
      "\n",
      "being therver... look like my end my dreams awake still wondering where all the money leftuess\n",
      " Why?\n",
      "Good morning in Twitter...  Have a long day at the office, that sounds cool, Holy comes with 3 Gramamens. Searching to see the special person.\n",
      "Whooped by I just bee walking around the house. Sad\n",
      " That was more fun when I have a day off with work?'   No tour lol. Beach like ish! lil sishes now!\n",
      "so i guess i wnD need the spreading things haha. Yeam its down now  fail\n",
      " awwwww i`m sorry! I have a feeling that`s \n"
     ]
    }
   ],
   "source": [
    "generate_text_with_lstm_model('work/models/lstm_model.keras', kaggle_text)"
   ]
  }
 ],
 "metadata": {
  "kernelspec": {
   "display_name": "Python 3 (ipykernel)",
   "language": "python",
   "name": "python3"
  }
 },
 "nbformat": 4,
 "nbformat_minor": 5
}
